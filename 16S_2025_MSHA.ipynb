{
  "cells": [
    {
      "cell_type": "markdown",
      "metadata": {
        "id": "2inlS7SNn0-o",
        "tags": []
      },
      "source": [
        "# 🦠 Análisis de datos de secuenciación de amplicones con QIIME 2\n",
        "\n",
        "### 🔗 Links Importantes\n",
        "- [Course Github](https://github.com/Gibbons-Lab/isb_course_2024): Repositorio de Github para el MSHA 2025\n",
        "    \n",
        "- [QIIME 2 view](http://view.qiime2.org): Una interfaz basada en navegador para ver artefactos y visualizaciones de QIIME (tablas y gráficos)\n",
        "- [QIIME 2 plugins](https://docs.qiime2.org/2024.5/plugins/): Más información sobre los complementos QIIME 2 que utilizamos hoy"
      ]
    },
    {
      "cell_type": "markdown",
      "metadata": {
        "id": "lcJVyVD80fAG"
      },
      "source": [
        "### 🛑 STOP! Antes de ejecutar cualquier cosa...\n",
        "\n",
        "1. Guarda una copia local de este cuaderno en `File > Save a copy in Drive`. En algún momento, es posible que se te solicite que confíes en el cuaderno. Te garantizamos que es seguro. 🤞\n",
        "\n",
        "2. Ten en cuenta que **el código de este cuaderno debe ejecutarse EN ORDEN** si te pierdes o encuentras errores. Favor de revisarlo con los miembros del staff del curso."
      ]
    },
    {
      "cell_type": "markdown",
      "metadata": {
        "id": "XroS-3dYbt2e"
      },
      "source": [
        "**Descargo de responsabilidad:** El entorno de notebook de Google Colab interpretará cualquier comando como código Python por defecto. Si queremos ejecutar comandos bash, tendremos que anteponerles `!`. Por lo tanto, cualquier comando que vea con `!` inicial es un comando bash y, si quisiera ejecutarlo en su terminal, omitiría el `!`. Por ejemplo, si en el notebook de Colab ejecuta `!wget`, simplemente ejecutaría `wget` en su terminal."
      ]
    },
    {
      "cell_type": "markdown",
      "metadata": {
        "id": "UVawr3gG0fAG",
        "tags": []
      },
      "source": [
        "---\n",
        "# Setup"
      ]
    },
    {
      "cell_type": "markdown",
      "metadata": {
        "id": "CuWOn36b0fAH"
      },
      "source": [
        "QIIME 2 suele instalarse siguiendo las [instrucciones oficiales de instalación](https://docs.qiime2.org/2024.5/install/). Sin embargo, dado que usamos Google Colab y el uso de conda tiene algunas limitaciones, tendremos que modificar un poco la instalación. Pero no se preocupen, a continuación encontrarán un script de instalación que realiza todo el trabajo por nosotros 😌\n",
        "\n",
        "\n",
        "Comencemos descargando una copia local del repositorio del proyecto desde GitHub. Este repositorio, llamado `materials`, contiene todos los datos relevantes y otros recursos que necesitaremos para este taller."
      ]
    },
    {
      "cell_type": "code",
      "execution_count": 1,
      "metadata": {
        "id": "9Cyg41Tcn1Ua",
        "colab": {
          "base_uri": "https://localhost:8080/"
        },
        "outputId": "3893d26c-805b-4fdc-8a04-264de0f25e98"
      },
      "outputs": [
        {
          "output_type": "stream",
          "name": "stdout",
          "text": [
            "Cloning into 'materials'...\n",
            "remote: Enumerating objects: 90, done.\u001b[K\n",
            "remote: Counting objects: 100% (15/15), done.\u001b[K\n",
            "remote: Compressing objects: 100% (12/12), done.\u001b[K\n",
            "remote: Total 90 (delta 4), reused 11 (delta 3), pack-reused 75 (from 1)\u001b[K\n",
            "Receiving objects: 100% (90/90), 86.44 MiB | 35.56 MiB/s, done.\n",
            "Resolving deltas: 100% (19/19), done.\n"
          ]
        }
      ],
      "source": [
        "!git clone https://github.com/diegoibt/microbiome_16S materials"
      ]
    },
    {
      "cell_type": "markdown",
      "metadata": {
        "id": "MQ9XVvOToEBR"
      },
      "source": [
        "Para ver el directorio, haga clic en el icono de carpeta 📁 a la izquierda. Para ejecutar código desde este directorio, acceda a él mediante la línea de comandos:"
      ]
    },
    {
      "cell_type": "code",
      "execution_count": 3,
      "metadata": {
        "id": "GvNHs-EroFNM",
        "colab": {
          "base_uri": "https://localhost:8080/"
        },
        "outputId": "17118467-84fb-48b3-a2be-c1d8865dc185"
      },
      "outputs": [
        {
          "output_type": "stream",
          "name": "stdout",
          "text": [
            "/content/materials\n"
          ]
        }
      ],
      "source": [
        "%cd materials"
      ]
    },
    {
      "cell_type": "markdown",
      "metadata": {
        "id": "IHvKnTbdypyp"
      },
      "source": [
        "Observe que aquí usamos ```%``` en lugar de ```!``` para ejecutar nuestra función de línea de comandos. Esto hace que la ruta a nuestro directorio sea permanente. El operador ```!``` solo cambia el intérprete para que espere indicaciones de línea de comandos temporalmente.\n",
        "\n"
      ]
    },
    {
      "cell_type": "markdown",
      "metadata": {
        "id": "nJ56MqA50fAJ"
      },
      "source": [
        "Ahora que tenemos todos los materiales, estamos casi listos para empezar, aunque aún no del todo. ¿Recuerdan QIIME? Necesitamos instalarlo antes de comenzar el análisis. No se preocupen, esto solo se configurará en el notebook de Colab, no en su equipo local.\n",
        "\n",
        "**Ejecutemos la siguiente celda para instalar y configurar QIIME2**"
      ]
    },
    {
      "cell_type": "code",
      "execution_count": null,
      "metadata": {
        "id": "Inkvkt_DoSQT"
      },
      "outputs": [],
      "source": [
        "%run installqiime2_prueba.py"
      ]
    },
    {
      "cell_type": "markdown",
      "metadata": {
        "id": "Pajd6O0OpE_f"
      },
      "source": [
        "⬆️ Esto llevará un tiempo (normalmente de 10 a 15 minutos), así que volveremos a la **presentación** mientras esperamos.\n",
        "\n",
        "Si quieres saber más sobre QIIME2, te recomendamos consultar la [documentación](https://docs.qiime2.org/). También te explicará cómo instalar QIIME2 en tu equipo local. 🖥"
      ]
    },
    {
      "cell_type": "markdown",
      "metadata": {
        "id": "RccdNYBeqQVn",
        "tags": []
      },
      "source": [
        "---\n",
        "# Importación de datos"
      ]
    },
    {
      "cell_type": "markdown",
      "metadata": {
        "id": "z0R9DFs0bt2g"
      },
      "source": [
        "¡QIIME2 puede llevarnos desde secuencias sin procesar al conocimiento ecológico!\n",
        "![our workflow](https://github.com/Gibbons-Lab/isb_course_2024/raw/main/docs/16S/assets/steps.png)\n",
        "Pero primero necesitamos transferir nuestros datos sin procesar a QIIME2. Para ello, necesitaremos:\n",
        "1. **Archivos de secuenciación sin procesar** (.fastq): Los archivos FASTQ contienen puntuaciones de secuencia y calidad, a diferencia de los archivos FASTA, que solo contienen la secuencia. Necesitamos estas puntuaciones de calidad para poder recortar o descartar lecturas de baja calidad.\n",
        "\n",
        "2. **Archivo de metadatos** (.tsv): Este archivo contiene el ID de la muestra, junto con todos los datos no secuenciales de cada muestra. Aquí, nuestros metadatos incluyen el estado de la enfermedad, la edad, el sexo, el IMC, la ubicación geográfica y el uso de medicamentos recetados, así como información sobre la dieta y los síntomas gastrointestinales.\n",
        "\n",
        "3. **Archivo de manifiesto** (.tsv): Este archivo contiene el ID de la muestra y la ruta a su archivo de secuenciación. Así es como QIIME asocia una secuencia con sus metadatos correctos. 📝"
      ]
    },
    {
      "cell_type": "markdown",
      "metadata": {
        "id": "bPExCVcl0fAK"
      },
      "source": [
        "Comencemos analizando nuestros datos. En la carpeta de `data`, encontrará 10 archivos FASTQ, un manifiesto de archivo y un archivo de metadatos.\n",
        "\n",
        "Si leemos `manifest.tsv`, veremos que es una tabla que contiene el nombre y la ruta de archivo de todas nuestras muestras."
      ]
    },
    {
      "cell_type": "code",
      "execution_count": 5,
      "metadata": {
        "id": "_pFaCnO6iqqW",
        "colab": {
          "base_uri": "https://localhost:8080/",
          "height": 363
        },
        "outputId": "af8f3603-4e0f-43ec-ccd9-98acd561caca"
      },
      "outputs": [
        {
          "output_type": "execute_result",
          "data": {
            "text/plain": [
              "    sample-id              absolute-filepath\n",
              "0  ERR1513701  $PWD/data/ERR1513701.fastq.gz\n",
              "1  ERR1513870  $PWD/data/ERR1513870.fastq.gz\n",
              "2  ERR1513889  $PWD/data/ERR1513889.fastq.gz\n",
              "3  ERR1513684  $PWD/data/ERR1513684.fastq.gz\n",
              "4  ERR1513703  $PWD/data/ERR1513703.fastq.gz\n",
              "5  ERR1514003  $PWD/data/ERR1514003.fastq.gz\n",
              "6  ERR1513961  $PWD/data/ERR1513961.fastq.gz\n",
              "7  ERR1513983  $PWD/data/ERR1513983.fastq.gz\n",
              "8  ERR1513964  $PWD/data/ERR1513964.fastq.gz\n",
              "9  ERR1513777  $PWD/data/ERR1513777.fastq.gz"
            ],
            "text/html": [
              "\n",
              "  <div id=\"df-d11ba2fc-7550-4c5c-ae73-a53830d1ef70\" class=\"colab-df-container\">\n",
              "    <div>\n",
              "<style scoped>\n",
              "    .dataframe tbody tr th:only-of-type {\n",
              "        vertical-align: middle;\n",
              "    }\n",
              "\n",
              "    .dataframe tbody tr th {\n",
              "        vertical-align: top;\n",
              "    }\n",
              "\n",
              "    .dataframe thead th {\n",
              "        text-align: right;\n",
              "    }\n",
              "</style>\n",
              "<table border=\"1\" class=\"dataframe\">\n",
              "  <thead>\n",
              "    <tr style=\"text-align: right;\">\n",
              "      <th></th>\n",
              "      <th>sample-id</th>\n",
              "      <th>absolute-filepath</th>\n",
              "    </tr>\n",
              "  </thead>\n",
              "  <tbody>\n",
              "    <tr>\n",
              "      <th>0</th>\n",
              "      <td>ERR1513701</td>\n",
              "      <td>$PWD/data/ERR1513701.fastq.gz</td>\n",
              "    </tr>\n",
              "    <tr>\n",
              "      <th>1</th>\n",
              "      <td>ERR1513870</td>\n",
              "      <td>$PWD/data/ERR1513870.fastq.gz</td>\n",
              "    </tr>\n",
              "    <tr>\n",
              "      <th>2</th>\n",
              "      <td>ERR1513889</td>\n",
              "      <td>$PWD/data/ERR1513889.fastq.gz</td>\n",
              "    </tr>\n",
              "    <tr>\n",
              "      <th>3</th>\n",
              "      <td>ERR1513684</td>\n",
              "      <td>$PWD/data/ERR1513684.fastq.gz</td>\n",
              "    </tr>\n",
              "    <tr>\n",
              "      <th>4</th>\n",
              "      <td>ERR1513703</td>\n",
              "      <td>$PWD/data/ERR1513703.fastq.gz</td>\n",
              "    </tr>\n",
              "    <tr>\n",
              "      <th>5</th>\n",
              "      <td>ERR1514003</td>\n",
              "      <td>$PWD/data/ERR1514003.fastq.gz</td>\n",
              "    </tr>\n",
              "    <tr>\n",
              "      <th>6</th>\n",
              "      <td>ERR1513961</td>\n",
              "      <td>$PWD/data/ERR1513961.fastq.gz</td>\n",
              "    </tr>\n",
              "    <tr>\n",
              "      <th>7</th>\n",
              "      <td>ERR1513983</td>\n",
              "      <td>$PWD/data/ERR1513983.fastq.gz</td>\n",
              "    </tr>\n",
              "    <tr>\n",
              "      <th>8</th>\n",
              "      <td>ERR1513964</td>\n",
              "      <td>$PWD/data/ERR1513964.fastq.gz</td>\n",
              "    </tr>\n",
              "    <tr>\n",
              "      <th>9</th>\n",
              "      <td>ERR1513777</td>\n",
              "      <td>$PWD/data/ERR1513777.fastq.gz</td>\n",
              "    </tr>\n",
              "  </tbody>\n",
              "</table>\n",
              "</div>\n",
              "    <div class=\"colab-df-buttons\">\n",
              "\n",
              "  <div class=\"colab-df-container\">\n",
              "    <button class=\"colab-df-convert\" onclick=\"convertToInteractive('df-d11ba2fc-7550-4c5c-ae73-a53830d1ef70')\"\n",
              "            title=\"Convert this dataframe to an interactive table.\"\n",
              "            style=\"display:none;\">\n",
              "\n",
              "  <svg xmlns=\"http://www.w3.org/2000/svg\" height=\"24px\" viewBox=\"0 -960 960 960\">\n",
              "    <path d=\"M120-120v-720h720v720H120Zm60-500h600v-160H180v160Zm220 220h160v-160H400v160Zm0 220h160v-160H400v160ZM180-400h160v-160H180v160Zm440 0h160v-160H620v160ZM180-180h160v-160H180v160Zm440 0h160v-160H620v160Z\"/>\n",
              "  </svg>\n",
              "    </button>\n",
              "\n",
              "  <style>\n",
              "    .colab-df-container {\n",
              "      display:flex;\n",
              "      gap: 12px;\n",
              "    }\n",
              "\n",
              "    .colab-df-convert {\n",
              "      background-color: #E8F0FE;\n",
              "      border: none;\n",
              "      border-radius: 50%;\n",
              "      cursor: pointer;\n",
              "      display: none;\n",
              "      fill: #1967D2;\n",
              "      height: 32px;\n",
              "      padding: 0 0 0 0;\n",
              "      width: 32px;\n",
              "    }\n",
              "\n",
              "    .colab-df-convert:hover {\n",
              "      background-color: #E2EBFA;\n",
              "      box-shadow: 0px 1px 2px rgba(60, 64, 67, 0.3), 0px 1px 3px 1px rgba(60, 64, 67, 0.15);\n",
              "      fill: #174EA6;\n",
              "    }\n",
              "\n",
              "    .colab-df-buttons div {\n",
              "      margin-bottom: 4px;\n",
              "    }\n",
              "\n",
              "    [theme=dark] .colab-df-convert {\n",
              "      background-color: #3B4455;\n",
              "      fill: #D2E3FC;\n",
              "    }\n",
              "\n",
              "    [theme=dark] .colab-df-convert:hover {\n",
              "      background-color: #434B5C;\n",
              "      box-shadow: 0px 1px 3px 1px rgba(0, 0, 0, 0.15);\n",
              "      filter: drop-shadow(0px 1px 2px rgba(0, 0, 0, 0.3));\n",
              "      fill: #FFFFFF;\n",
              "    }\n",
              "  </style>\n",
              "\n",
              "    <script>\n",
              "      const buttonEl =\n",
              "        document.querySelector('#df-d11ba2fc-7550-4c5c-ae73-a53830d1ef70 button.colab-df-convert');\n",
              "      buttonEl.style.display =\n",
              "        google.colab.kernel.accessAllowed ? 'block' : 'none';\n",
              "\n",
              "      async function convertToInteractive(key) {\n",
              "        const element = document.querySelector('#df-d11ba2fc-7550-4c5c-ae73-a53830d1ef70');\n",
              "        const dataTable =\n",
              "          await google.colab.kernel.invokeFunction('convertToInteractive',\n",
              "                                                    [key], {});\n",
              "        if (!dataTable) return;\n",
              "\n",
              "        const docLinkHtml = 'Like what you see? Visit the ' +\n",
              "          '<a target=\"_blank\" href=https://colab.research.google.com/notebooks/data_table.ipynb>data table notebook</a>'\n",
              "          + ' to learn more about interactive tables.';\n",
              "        element.innerHTML = '';\n",
              "        dataTable['output_type'] = 'display_data';\n",
              "        await google.colab.output.renderOutput(dataTable, element);\n",
              "        const docLink = document.createElement('div');\n",
              "        docLink.innerHTML = docLinkHtml;\n",
              "        element.appendChild(docLink);\n",
              "      }\n",
              "    </script>\n",
              "  </div>\n",
              "\n",
              "\n",
              "    <div id=\"df-6d9472ac-d35c-46ae-8bdc-0184943e2446\">\n",
              "      <button class=\"colab-df-quickchart\" onclick=\"quickchart('df-6d9472ac-d35c-46ae-8bdc-0184943e2446')\"\n",
              "                title=\"Suggest charts\"\n",
              "                style=\"display:none;\">\n",
              "\n",
              "<svg xmlns=\"http://www.w3.org/2000/svg\" height=\"24px\"viewBox=\"0 0 24 24\"\n",
              "     width=\"24px\">\n",
              "    <g>\n",
              "        <path d=\"M19 3H5c-1.1 0-2 .9-2 2v14c0 1.1.9 2 2 2h14c1.1 0 2-.9 2-2V5c0-1.1-.9-2-2-2zM9 17H7v-7h2v7zm4 0h-2V7h2v10zm4 0h-2v-4h2v4z\"/>\n",
              "    </g>\n",
              "</svg>\n",
              "      </button>\n",
              "\n",
              "<style>\n",
              "  .colab-df-quickchart {\n",
              "      --bg-color: #E8F0FE;\n",
              "      --fill-color: #1967D2;\n",
              "      --hover-bg-color: #E2EBFA;\n",
              "      --hover-fill-color: #174EA6;\n",
              "      --disabled-fill-color: #AAA;\n",
              "      --disabled-bg-color: #DDD;\n",
              "  }\n",
              "\n",
              "  [theme=dark] .colab-df-quickchart {\n",
              "      --bg-color: #3B4455;\n",
              "      --fill-color: #D2E3FC;\n",
              "      --hover-bg-color: #434B5C;\n",
              "      --hover-fill-color: #FFFFFF;\n",
              "      --disabled-bg-color: #3B4455;\n",
              "      --disabled-fill-color: #666;\n",
              "  }\n",
              "\n",
              "  .colab-df-quickchart {\n",
              "    background-color: var(--bg-color);\n",
              "    border: none;\n",
              "    border-radius: 50%;\n",
              "    cursor: pointer;\n",
              "    display: none;\n",
              "    fill: var(--fill-color);\n",
              "    height: 32px;\n",
              "    padding: 0;\n",
              "    width: 32px;\n",
              "  }\n",
              "\n",
              "  .colab-df-quickchart:hover {\n",
              "    background-color: var(--hover-bg-color);\n",
              "    box-shadow: 0 1px 2px rgba(60, 64, 67, 0.3), 0 1px 3px 1px rgba(60, 64, 67, 0.15);\n",
              "    fill: var(--button-hover-fill-color);\n",
              "  }\n",
              "\n",
              "  .colab-df-quickchart-complete:disabled,\n",
              "  .colab-df-quickchart-complete:disabled:hover {\n",
              "    background-color: var(--disabled-bg-color);\n",
              "    fill: var(--disabled-fill-color);\n",
              "    box-shadow: none;\n",
              "  }\n",
              "\n",
              "  .colab-df-spinner {\n",
              "    border: 2px solid var(--fill-color);\n",
              "    border-color: transparent;\n",
              "    border-bottom-color: var(--fill-color);\n",
              "    animation:\n",
              "      spin 1s steps(1) infinite;\n",
              "  }\n",
              "\n",
              "  @keyframes spin {\n",
              "    0% {\n",
              "      border-color: transparent;\n",
              "      border-bottom-color: var(--fill-color);\n",
              "      border-left-color: var(--fill-color);\n",
              "    }\n",
              "    20% {\n",
              "      border-color: transparent;\n",
              "      border-left-color: var(--fill-color);\n",
              "      border-top-color: var(--fill-color);\n",
              "    }\n",
              "    30% {\n",
              "      border-color: transparent;\n",
              "      border-left-color: var(--fill-color);\n",
              "      border-top-color: var(--fill-color);\n",
              "      border-right-color: var(--fill-color);\n",
              "    }\n",
              "    40% {\n",
              "      border-color: transparent;\n",
              "      border-right-color: var(--fill-color);\n",
              "      border-top-color: var(--fill-color);\n",
              "    }\n",
              "    60% {\n",
              "      border-color: transparent;\n",
              "      border-right-color: var(--fill-color);\n",
              "    }\n",
              "    80% {\n",
              "      border-color: transparent;\n",
              "      border-right-color: var(--fill-color);\n",
              "      border-bottom-color: var(--fill-color);\n",
              "    }\n",
              "    90% {\n",
              "      border-color: transparent;\n",
              "      border-bottom-color: var(--fill-color);\n",
              "    }\n",
              "  }\n",
              "</style>\n",
              "\n",
              "      <script>\n",
              "        async function quickchart(key) {\n",
              "          const quickchartButtonEl =\n",
              "            document.querySelector('#' + key + ' button');\n",
              "          quickchartButtonEl.disabled = true;  // To prevent multiple clicks.\n",
              "          quickchartButtonEl.classList.add('colab-df-spinner');\n",
              "          try {\n",
              "            const charts = await google.colab.kernel.invokeFunction(\n",
              "                'suggestCharts', [key], {});\n",
              "          } catch (error) {\n",
              "            console.error('Error during call to suggestCharts:', error);\n",
              "          }\n",
              "          quickchartButtonEl.classList.remove('colab-df-spinner');\n",
              "          quickchartButtonEl.classList.add('colab-df-quickchart-complete');\n",
              "        }\n",
              "        (() => {\n",
              "          let quickchartButtonEl =\n",
              "            document.querySelector('#df-6d9472ac-d35c-46ae-8bdc-0184943e2446 button');\n",
              "          quickchartButtonEl.style.display =\n",
              "            google.colab.kernel.accessAllowed ? 'block' : 'none';\n",
              "        })();\n",
              "      </script>\n",
              "    </div>\n",
              "\n",
              "  <div id=\"id_a8640c2b-18df-4862-8b45-c283ae326379\">\n",
              "    <style>\n",
              "      .colab-df-generate {\n",
              "        background-color: #E8F0FE;\n",
              "        border: none;\n",
              "        border-radius: 50%;\n",
              "        cursor: pointer;\n",
              "        display: none;\n",
              "        fill: #1967D2;\n",
              "        height: 32px;\n",
              "        padding: 0 0 0 0;\n",
              "        width: 32px;\n",
              "      }\n",
              "\n",
              "      .colab-df-generate:hover {\n",
              "        background-color: #E2EBFA;\n",
              "        box-shadow: 0px 1px 2px rgba(60, 64, 67, 0.3), 0px 1px 3px 1px rgba(60, 64, 67, 0.15);\n",
              "        fill: #174EA6;\n",
              "      }\n",
              "\n",
              "      [theme=dark] .colab-df-generate {\n",
              "        background-color: #3B4455;\n",
              "        fill: #D2E3FC;\n",
              "      }\n",
              "\n",
              "      [theme=dark] .colab-df-generate:hover {\n",
              "        background-color: #434B5C;\n",
              "        box-shadow: 0px 1px 3px 1px rgba(0, 0, 0, 0.15);\n",
              "        filter: drop-shadow(0px 1px 2px rgba(0, 0, 0, 0.3));\n",
              "        fill: #FFFFFF;\n",
              "      }\n",
              "    </style>\n",
              "    <button class=\"colab-df-generate\" onclick=\"generateWithVariable('manifest')\"\n",
              "            title=\"Generate code using this dataframe.\"\n",
              "            style=\"display:none;\">\n",
              "\n",
              "  <svg xmlns=\"http://www.w3.org/2000/svg\" height=\"24px\"viewBox=\"0 0 24 24\"\n",
              "       width=\"24px\">\n",
              "    <path d=\"M7,19H8.4L18.45,9,17,7.55,7,17.6ZM5,21V16.75L18.45,3.32a2,2,0,0,1,2.83,0l1.4,1.43a1.91,1.91,0,0,1,.58,1.4,1.91,1.91,0,0,1-.58,1.4L9.25,21ZM18.45,9,17,7.55Zm-12,3A5.31,5.31,0,0,0,4.9,8.1,5.31,5.31,0,0,0,1,6.5,5.31,5.31,0,0,0,4.9,4.9,5.31,5.31,0,0,0,6.5,1,5.31,5.31,0,0,0,8.1,4.9,5.31,5.31,0,0,0,12,6.5,5.46,5.46,0,0,0,6.5,12Z\"/>\n",
              "  </svg>\n",
              "    </button>\n",
              "    <script>\n",
              "      (() => {\n",
              "      const buttonEl =\n",
              "        document.querySelector('#id_a8640c2b-18df-4862-8b45-c283ae326379 button.colab-df-generate');\n",
              "      buttonEl.style.display =\n",
              "        google.colab.kernel.accessAllowed ? 'block' : 'none';\n",
              "\n",
              "      buttonEl.onclick = () => {\n",
              "        google.colab.notebook.generateWithVariable('manifest');\n",
              "      }\n",
              "      })();\n",
              "    </script>\n",
              "  </div>\n",
              "\n",
              "    </div>\n",
              "  </div>\n"
            ],
            "application/vnd.google.colaboratory.intrinsic+json": {
              "type": "dataframe",
              "variable_name": "manifest",
              "summary": "{\n  \"name\": \"manifest\",\n  \"rows\": 10,\n  \"fields\": [\n    {\n      \"column\": \"sample-id\",\n      \"properties\": {\n        \"dtype\": \"string\",\n        \"num_unique_values\": 10,\n        \"samples\": [\n          \"ERR1513964\",\n          \"ERR1513870\",\n          \"ERR1514003\"\n        ],\n        \"semantic_type\": \"\",\n        \"description\": \"\"\n      }\n    },\n    {\n      \"column\": \"absolute-filepath\",\n      \"properties\": {\n        \"dtype\": \"string\",\n        \"num_unique_values\": 10,\n        \"samples\": [\n          \"$PWD/data/ERR1513964.fastq.gz\",\n          \"$PWD/data/ERR1513870.fastq.gz\",\n          \"$PWD/data/ERR1514003.fastq.gz\"\n        ],\n        \"semantic_type\": \"\",\n        \"description\": \"\"\n      }\n    }\n  ]\n}"
            }
          },
          "metadata": {},
          "execution_count": 5
        }
      ],
      "source": [
        "import pandas as pd\n",
        "manifest = pd.read_csv('data/manifest.tsv', sep = '\\t')\n",
        "manifest"
      ]
    },
    {
      "cell_type": "markdown",
      "metadata": {
        "id": "vAIoc31bgTY_"
      },
      "source": [
        "También podemos consultar `metadata.tsv`, que nos dará más contexto sobre nuestras muestras 🔬"
      ]
    },
    {
      "cell_type": "code",
      "execution_count": null,
      "metadata": {
        "id": "sAfnoRnxgZOO",
        "scrolled": true
      },
      "outputs": [],
      "source": [
        "metadata = pd.read_csv('data/metadata.tsv', sep='\\t')\n",
        "metadata"
      ]
    },
    {
      "cell_type": "markdown",
      "metadata": {
        "id": "_ssDjv0I0fAL"
      },
      "source": [
        "Todo bien, los 10 archivos FASTQ están contabilizados: cinco sanos y cinco con enfermedad de Parkinson. Podemos usar el archivo de manifiesto para importar nuestros archivos a QIIME."
      ]
    },
    {
      "cell_type": "markdown",
      "metadata": {
        "id": "qc10jMUYsXyh",
        "tags": []
      },
      "source": [
        "## FASTQ a Artefacto"
      ]
    },
    {
      "cell_type": "markdown",
      "metadata": {
        "id": "HLF-zdrJXq7q"
      },
      "source": [
        "Para usar datos de secuenciación en QIIME, primero debemos convertir los archivos FASTQ que contienen nuestros datos en artefactos QIIME. Usando el manifiesto que acabamos de consultar, ejecutemos nuestro primer comando:\n",
        "\n",
        "-- Como recordatorio, añadir ```!``` antes del comando indica al notebook que se trata de un comando de **bash**, no de Python."
      ]
    },
    {
      "cell_type": "code",
      "execution_count": null,
      "metadata": {
        "id": "QmLebzqFX_0N"
      },
      "outputs": [],
      "source": [
        "!qiime tools import \\\n",
        "  --type 'SampleData[SequencesWithQuality]' \\\n",
        "  --input-path data/manifest.tsv \\\n",
        "  --output-path sequences.qza \\\n",
        "  --input-format SingleEndFastqManifestPhred33V2"
      ]
    },
    {
      "cell_type": "markdown",
      "metadata": {
        "id": "N2Pmtg-aaqvr"
      },
      "source": [
        "Analicemos el comando QIIME. Los comandos QIIME tienen el siguiente formato:\n",
        "\n",
        "```\n",
        "qiime plugin action --i-argument1 ... --o-argument2 ...\n",
        "```\n",
        "En el comando anterior, llamamos al complemento ```tools``` de QIIME2 para importar nuestros datos. Los siguientes argumentos indican dónde se encuentra el manifiesto y dónde se debe guardar la salida. También le indicamos a QIIME qué tipo de entrada esperar.\n",
        "\n",
        "Los tipos de argumentos suelen comenzar con una letra que indica su significado:\n",
        "\n",
        "- `--i-...` = archivos de entrada\n",
        "- `--o-...` = archivos de salida\n",
        "- `--p-...` = parámetros\n",
        "- `--m-...` = metadatos\n",
        "\n"
      ]
    },
    {
      "cell_type": "markdown",
      "metadata": {
        "id": "Wb__5zxD0fAM",
        "tags": []
      },
      "source": [
        "## Artefacto para la visualización 🔎\n",
        "\n",
        "Antes de continuar, usemos QIIME para visualizar nuestros datos de secuenciación."
      ]
    },
    {
      "cell_type": "code",
      "execution_count": null,
      "metadata": {
        "id": "nVPsDHTNvNUw"
      },
      "outputs": [],
      "source": [
        "!qiime demux summarize \\\n",
        "--i-data sequences.qza \\\n",
        "--o-visualization qualities.qzv"
      ]
    },
    {
      "cell_type": "markdown",
      "metadata": {
        "id": "o29TMwWOy9L1"
      },
      "source": [
        "Los archivos .qzv como el que acabamos de producir son de visualización. Puede ver el gráfico **descargando el archivo y abriéndolo en http://view.qiime2.org**. Para descargarlo, haga clic en el símbolo de carpeta a la izquierda, abra la carpeta `materials` y seleccione `download` en el menú desplegable junto al archivo `quality.qzv`."
      ]
    },
    {
      "cell_type": "markdown",
      "metadata": {
        "id": "va8RVKqP0fAM",
        "tags": []
      },
      "source": [
        "---\n",
        "# Filtrado de calidad: de la secuencia al ASV"
      ]
    },
    {
      "cell_type": "markdown",
      "metadata": {
        "id": "Lxb_lE8l0fAN"
      },
      "source": [
        "Antes de poder usar nuestros datos de secuenciación, necesitamos eliminar el ruido. Para ello, usaremos un complemento llamado ```DADA2```. Esto implica lo siguiente:\n",
        "\n",
        "1. Filtrar y recortar las lecturas\n",
        "2. Encontrar el conjunto más probable de secuencias únicas en la muestra (ASV)\n",
        "3. Eliminar quimeras\n",
        "4. Contar la abundancia de cada ASV\n",
        "\n",
        "Este comando tardará un poco; ejecutémoslo y volvamos a la presentación para analizar lo que está sucediendo."
      ]
    },
    {
      "cell_type": "code",
      "execution_count": null,
      "metadata": {
        "id": "HclmzHqyacLU"
      },
      "outputs": [],
      "source": [
        "!qiime dada2 denoise-single \\\n",
        "    --i-demultiplexed-seqs sequences.qza \\\n",
        "    --p-trunc-len 150 \\\n",
        "    --p-n-threads 2 \\\n",
        "    --output-dir dada --verbose"
      ]
    },
    {
      "cell_type": "markdown",
      "metadata": {
        "id": "8HkGlrL_bt2h"
      },
      "source": [
        "Si abrimos la carpeta `dada` 📁, veremos varios resultados.\n",
        "- `representative_sequences.qza` es nuestra *tabla de abundancia ASV* 🧬\n",
        "- `denoising-stats.qza` contiene las *estadísticas de reducción de ruido* 📊\n",
        "\n",
        "Queremos revisar las estadísticas de reducción de ruido para asegurarnos de que la eliminación de ruido se realizó correctamente. Es normal perder entre un 5 y un 25 % de las lecturas debido a quimeras, pero una pérdida importante podría deberse a ejecutar demasiados ciclos de PCR.\n",
        "\n",
        "Como se mencionó anteriormente, no podemos ver los *artefactos* de QIIME directamente, pero podemos convertirlos en *visualizaciones* mediante la acción `tabulate` del complemento `metadata`."
      ]
    },
    {
      "cell_type": "code",
      "execution_count": null,
      "metadata": {
        "id": "z-iW0UBd_Iiu"
      },
      "outputs": [],
      "source": [
        "!qiime metadata tabulate \\\n",
        "    --m-input-file dada/denoising_stats.qza \\\n",
        "    --o-visualization dada/denoising-stats.qzv"
      ]
    },
    {
      "cell_type": "markdown",
      "metadata": {
        "id": "TWqEgfzRKA5t"
      },
      "source": [
        "Como antes, podemos descargar el archivo .qzv y visualizar los resultados con el [QIIME2 Viewer](https://view.qiime2.org/).\n",
        "\n",
        "Es importante comprender qué nos indica este resultado. Por ejemplo, ¿qué porcentaje de lecturas de nuestros datos supera el paso de filtrado? ¿Qué porcentaje de lecturas no fueron quiméricas? Las diferencias en estas métricas entre muestras pueden afectar las métricas de diversidad."
      ]
    },
    {
      "cell_type": "markdown",
      "metadata": {
        "id": "t2AMNrWYbt2h"
      },
      "source": [
        "\n",
        "\n",
        "Para obtener más información sobre el filtrado de calidad pair-end **consulta**:\n",
        "\n",
        "Dacey, Daniel P., and Frédéric JJ Chain. \"Concatenation of paired-end reads improves taxonomic classification of amplicons for profiling microbial communities.\" BMC bioinformatics 22 (2021): 1-25.\n",
        "\n",
        "\n"
      ]
    },
    {
      "cell_type": "markdown",
      "metadata": {
        "id": "mQKTRQXJ0fAO",
        "tags": []
      },
      "source": [
        "---\n",
        "# Filogenética"
      ]
    },
    {
      "cell_type": "markdown",
      "metadata": {
        "id": "Nenyl3ZIbt2h"
      },
      "source": [
        "Ahora que tenemos una tabla ASV, ¡podemos calcular métricas de diversidad! Pero primero, regresen a la **presentación**\n",
        "\n",
        "Nota: Estamos abordando análisis que algunos prefieren realizar en RStudio o Jupyter Notebooks, sin usar el framework QIIME. Por ejemplo, los análisis de diversidad se pueden realizar usando `scikit-bio` en Python o `vegan` en R. De hecho, QIIME2 utiliza `scikit-bio` y `vegan` internamente para sus cálculos de diversidad."
      ]
    },
    {
      "cell_type": "markdown",
      "metadata": {
        "id": "bPoyj-6c0fAU",
        "tags": []
      },
      "source": [
        "### De ASV a árboles filogenéticos con QIIME2 `phylogeny`"
      ]
    },
    {
      "cell_type": "markdown",
      "metadata": {
        "id": "Bw8D0aML0fAU"
      },
      "source": [
        "Algunas *métricas de diversidad* se calculan mediante la distancia filogenética, así que comencemos construyendo un árbol filogenético para nuestras secuencias con el siguiente comando. En esta ocasión, llamamos al complemento `phylogeny` en QIIME2."
      ]
    },
    {
      "cell_type": "code",
      "execution_count": null,
      "metadata": {
        "id": "Ym7blrPpKQuJ"
      },
      "outputs": [],
      "source": [
        "!qiime phylogeny align-to-tree-mafft-fasttree \\\n",
        "    --i-sequences dada/representative_sequences.qza \\\n",
        "    --output-dir tree"
      ]
    },
    {
      "cell_type": "markdown",
      "metadata": {
        "id": "T1jbqaW1hrmQ"
      },
      "source": [
        "Podemos crear una visualización para el árbol usando el complemento QIIME 2 `empress`. Consulte la [documentación](https://github.com/biocore/empress) para obtener más detalles."
      ]
    },
    {
      "cell_type": "code",
      "execution_count": null,
      "metadata": {
        "id": "2Ttf0RTyhaPH"
      },
      "outputs": [],
      "source": [
        "!qiime empress tree-plot \\\n",
        "    --i-tree tree/rooted_tree.qza \\\n",
        "    --o-visualization tree/empress.qzv"
      ]
    },
    {
      "cell_type": "markdown",
      "metadata": {
        "id": "hARw9Xixbt2k"
      },
      "source": [
        "---\n",
        "# Diversidad"
      ]
    },
    {
      "cell_type": "markdown",
      "metadata": {
        "id": "H4fTVpeToufK",
        "tags": []
      },
      "source": [
        "## Parte 1: Los básicos"
      ]
    },
    {
      "cell_type": "markdown",
      "metadata": {
        "id": "dyp1iAoW0fAV"
      },
      "source": [
        "El complemento `diversity` de QIIME2 incluye una acción llamada `core-metrics-phylogenetic`, que calcula _varias_ métricas de diversidad filogenéticas y no filogenéticas.\n",
        "\n",
        "Podemos usar nuestra tabla y árbol para calcular varias métricas de diversidad. Para tener en cuenta las variaciones en la **profundidad de muestreo**, proporcionaremos a QIIME2 un valor de corte en el que **rarificaremos** todas nuestras muestras. La rarefacción selecciona secuencias **aleatoriamente**, por lo que sus resultados podrían diferir ligeramente de los míos. También pasaremos nuestro archivo de metadatos para poder rastrear qué muestras provienen de cada grupo."
      ]
    },
    {
      "cell_type": "code",
      "execution_count": null,
      "metadata": {
        "id": "1YqaTqS5huAz"
      },
      "outputs": [],
      "source": [
        "!qiime diversity core-metrics-phylogenetic \\\n",
        "    --i-table dada/table.qza \\\n",
        "    --i-phylogeny tree/rooted_tree.qza \\\n",
        "    --p-sampling-depth 5000 \\\n",
        "    --m-metadata-file data/metadata.tsv \\\n",
        "    --output-dir diversity"
      ]
    },
    {
      "cell_type": "markdown",
      "metadata": {
        "id": "7kiYQC_30fAW"
      },
      "source": [
        "Si abres la carpeta \"diversidad\", verás que calculamos todas las métricas de diversidad que acabo de mencionar. Para más información sobre cómo se calculan e interpretan estas métricas de diversidad, consulta esta publicación del foro de QIIME (https://forum.qiime2.org/t/alpha-and-beta-diversity-explanations-and-commands/2282).\n",
        "\n",
        "Pero lo que realmente nos interesa es si la diversidad difiere *significativamente* entre muestras de pacientes con enfermedad y de pacientes sanos, o si existen otras covariables. Por lo tanto, necesitaremos realizar pruebas estadísticas.\n",
        "\n",
        "Vuelve a la presentación para ver algunos tipos de pruebas estadísticas y cuándo usarlas."
      ]
    },
    {
      "cell_type": "markdown",
      "metadata": {
        "id": "XslTNgFBg5qp",
        "tags": []
      },
      "source": [
        "### Diversidad alfa: riqueza y uniformidad _dentro_ de una muestra"
      ]
    },
    {
      "cell_type": "markdown",
      "metadata": {
        "id": "AVT3NfDT0fAW"
      },
      "source": [
        "Obtenemos varios resultados del comando anterior: medidas de diversidad alfa y beta. Para empezar, usemos el vector de Shannon del directorio de salida para crear una visualización de la diversidad alfa en las muestras. Generalmente, las personas sanas y longevas tienen microbiomas diversos y equilibrados. Sin embargo, esto no es necesariamente un indicador directo de salud o enfermedad. Veamos cómo se ve en nuestras muestras."
      ]
    },
    {
      "cell_type": "code",
      "execution_count": null,
      "metadata": {
        "id": "ne2WybKgh6fv"
      },
      "outputs": [],
      "source": [
        "!qiime diversity alpha-group-significance \\\n",
        "    --i-alpha-diversity diversity/shannon_vector.qza \\\n",
        "    --m-metadata-file data/metadata.tsv \\\n",
        "    --o-visualization diversity/alpha_groups.qzv"
      ]
    },
    {
      "cell_type": "markdown",
      "metadata": {
        "id": "HzF0iOjD0fAW"
      },
      "source": [
        "Al igual que antes, podemos descargar la visualización y abrirla con el [visor QIIME2](http://view.qiime2.org)."
      ]
    },
    {
      "cell_type": "markdown",
      "metadata": {
        "id": "V5eJbSNo0fAX",
        "tags": []
      },
      "source": [
        "### Diversidad beta: distancia entre muestras"
      ]
    },
    {
      "cell_type": "markdown",
      "metadata": {
        "id": "VNmxg2lmjyHE"
      },
      "source": [
        "Visualicemos la diversidad beta y veamos cómo se separan. Para ello, analizaremos el UniFrac ponderado. En esta ocasión, tendremos que descargar el archivo ⬅️\n",
        "\n",
        "Podemos comprobar si hay una separación significativa entre muestras usando PERMANOVA. Podemos hacerlo con el complemento de diversidad de QIIME2."
      ]
    },
    {
      "cell_type": "code",
      "execution_count": null,
      "metadata": {
        "id": "WMASNLaWjxwD"
      },
      "outputs": [],
      "source": [
        "!qiime diversity adonis \\\n",
        "    --i-distance-matrix diversity/weighted_unifrac_distance_matrix.qza \\\n",
        "    --m-metadata-file data/metadata.tsv \\\n",
        "    --p-formula \"parkinson_disease\" \\\n",
        "    --p-n-jobs 2 \\\n",
        "    --o-visualization diversity/permanova.qzv"
      ]
    },
    {
      "cell_type": "markdown",
      "metadata": {
        "id": "YtogNk5h0fAY"
      },
      "source": [
        "Ya ejecutamos un PCoAs para cada métrica de distancia y podemos verlos si abrimos `weighted_unifrac_emperor.qzv`, `unweighted_unifrac_emperor.qzv`, `bray_curtis_emperor.qzv` o `jaccard_emperor.qzv` en el [visor QIIME2](http://view.qiime2.org)."
      ]
    },
    {
      "cell_type": "markdown",
      "metadata": {
        "id": "xvUQXK6Hbt2l"
      },
      "source": [
        "### ¿Son informativos estos resultados? Un análisis del tamaño de la muestra, el tamaño del efecto y los factores de confusión."
      ]
    },
    {
      "cell_type": "markdown",
      "metadata": {
        "id": "oqSccAHQbt2l"
      },
      "source": [
        "Estos resultados no son muy informativos y, en algunos casos, contradicen la intuición. Esto puede deberse a varias razones:\n",
        "\n",
        "1. **Tamaño muestral pequeño:** Utilizamos un tamaño muestral muy pequeño (n = 10). Incluso si pudiéramos observar tendencias, no esperaríamos significación estadística.\n",
        "\n",
        "2. **La diversidad alfa es una métrica de grano grueso:** El índice de Shannon intenta resumir la diversidad del microbioma (muy compleja) en una sola cifra.\n",
        "\n",
        "3. **Factores de confusión importantes:** Estos datos provienen de un estudio observacional, donde no se controlaron los factores de confusión. Se sabe que algunos factores de confusión (como la dieta y la exposición a fármacos) tienen fuertes efectos sobre la diversidad, lo que puede ocultar relaciones más pequeñas entre el microbioma y una variable de interés (como el estado de la enfermedad).\n",
        "\n",
        "En los estudios observacionales, es común **estratificar** los factores de confusión o incluirlos como **covariables** en las regresiones. Sin embargo, con un tamaño muestral de n = 10, realmente solo podemos evaluar una variable sin romper los supuestos. **¿Pero qué pasaría si tuviéramos una muestra más grande?** Esto abriría la puerta a más tipos de análisis. No pudimos procesar todo el conjunto de datos en Colab debido a la capacidad computacional limitada, pero por suerte, **¡preprocesamos todo el conjunto de datos para ti!**"
      ]
    },
    {
      "cell_type": "markdown",
      "metadata": {
        "id": "bhqRik5sbt2l"
      },
      "source": [
        "## Parte 2: Cómo lidiar con los factores de confusión"
      ]
    },
    {
      "cell_type": "markdown",
      "metadata": {
        "tags": [],
        "id": "vXTo3eq8bt2l"
      },
      "source": [
        "### Diversidad Alfa: conjunto de datos completo"
      ]
    },
    {
      "cell_type": "markdown",
      "metadata": {
        "id": "oEJfaGRDbt2l"
      },
      "source": [
        "Los archivos completos del conjunto de datos Hill-Burns 2017 se encuentran en la carpeta MATERIALES. Ahora, carguémoslos en QIIME2.\n",
        "\n",
        "Mantendremos este análisis en la carpeta `complete_study` para no confundir los archivos anteriores.\n"
      ]
    },
    {
      "cell_type": "markdown",
      "metadata": {
        "id": "MuDMcRLhbt2l"
      },
      "source": [
        "Ahora tenemos muchos más metadatos que antes. Echemos un vistazo."
      ]
    },
    {
      "cell_type": "code",
      "execution_count": 6,
      "metadata": {
        "id": "Ak44WMIrbt2l",
        "colab": {
          "base_uri": "https://localhost:8080/",
          "height": 534
        },
        "outputId": "c82e4d15-7e89-4654-b4d3-617d5e5ea857"
      },
      "outputs": [
        {
          "output_type": "stream",
          "name": "stdout",
          "text": [
            "(330, 39)\n"
          ]
        },
        {
          "output_type": "execute_result",
          "data": {
            "text/plain": [
              "           id parkinson_disease     sex   age    bmi     location  \\\n",
              "0  ERR1513669                No  female  79.0  28.34  Atlanta, GA   \n",
              "1  ERR1513670                No  female  70.0  33.12  Atlanta, GA   \n",
              "2  ERR1513671                No  female  79.0  32.28  Atlanta, GA   \n",
              "3  ERR1513672                No  female  70.0  24.44  Atlanta, GA   \n",
              "4  ERR1513673                No    male  76.0  25.06  Atlanta, GA   \n",
              "\n",
              "  anticholinergic antibiotics_bool anti_inflammatory_bool comt_inhibitor  ...  \\\n",
              "0               N               No                    Yes              N  ...   \n",
              "1               N               No                    Yes              N  ...   \n",
              "2               N               No                     No              N  ...   \n",
              "3               N               No                     No              N  ...   \n",
              "4               N               No                    Yes              N  ...   \n",
              "\n",
              "  crohns_disease  yogurt_live_culture                 nuts  \\\n",
              "0             No                  NaN     Few times a week   \n",
              "1             No                  NaN    Few times a month   \n",
              "2             No                  Yes  At least once a day   \n",
              "3             No                   No     Few times a week   \n",
              "4             No                  NaN  At least once a day   \n",
              "\n",
              "                grains fruits_or_vegetables                meats tobacco  \\\n",
              "0     Few times a week     Few times a week     Few times a week   False   \n",
              "1  At least once a day  At least once a day  At least once a day   False   \n",
              "2  At least once a day  At least once a day  At least once a day   False   \n",
              "3  At least once a day     Few times a week  At least once a day   False   \n",
              "4     Few times a week  At least once a day     Few times a week   False   \n",
              "\n",
              "  marijuana alcohol_bool coffee_bool  \n",
              "0     False         True        True  \n",
              "1     False        False        True  \n",
              "2     False        False       False  \n",
              "3     False         True       False  \n",
              "4     False         True        True  \n",
              "\n",
              "[5 rows x 39 columns]"
            ],
            "text/html": [
              "\n",
              "  <div id=\"df-e9409693-23e1-45f9-b925-c6b825be7d22\" class=\"colab-df-container\">\n",
              "    <div>\n",
              "<style scoped>\n",
              "    .dataframe tbody tr th:only-of-type {\n",
              "        vertical-align: middle;\n",
              "    }\n",
              "\n",
              "    .dataframe tbody tr th {\n",
              "        vertical-align: top;\n",
              "    }\n",
              "\n",
              "    .dataframe thead th {\n",
              "        text-align: right;\n",
              "    }\n",
              "</style>\n",
              "<table border=\"1\" class=\"dataframe\">\n",
              "  <thead>\n",
              "    <tr style=\"text-align: right;\">\n",
              "      <th></th>\n",
              "      <th>id</th>\n",
              "      <th>parkinson_disease</th>\n",
              "      <th>sex</th>\n",
              "      <th>age</th>\n",
              "      <th>bmi</th>\n",
              "      <th>location</th>\n",
              "      <th>anticholinergic</th>\n",
              "      <th>antibiotics_bool</th>\n",
              "      <th>anti_inflammatory_bool</th>\n",
              "      <th>comt_inhibitor</th>\n",
              "      <th>...</th>\n",
              "      <th>crohns_disease</th>\n",
              "      <th>yogurt_live_culture</th>\n",
              "      <th>nuts</th>\n",
              "      <th>grains</th>\n",
              "      <th>fruits_or_vegetables</th>\n",
              "      <th>meats</th>\n",
              "      <th>tobacco</th>\n",
              "      <th>marijuana</th>\n",
              "      <th>alcohol_bool</th>\n",
              "      <th>coffee_bool</th>\n",
              "    </tr>\n",
              "  </thead>\n",
              "  <tbody>\n",
              "    <tr>\n",
              "      <th>0</th>\n",
              "      <td>ERR1513669</td>\n",
              "      <td>No</td>\n",
              "      <td>female</td>\n",
              "      <td>79.0</td>\n",
              "      <td>28.34</td>\n",
              "      <td>Atlanta, GA</td>\n",
              "      <td>N</td>\n",
              "      <td>No</td>\n",
              "      <td>Yes</td>\n",
              "      <td>N</td>\n",
              "      <td>...</td>\n",
              "      <td>No</td>\n",
              "      <td>NaN</td>\n",
              "      <td>Few times a week</td>\n",
              "      <td>Few times a week</td>\n",
              "      <td>Few times a week</td>\n",
              "      <td>Few times a week</td>\n",
              "      <td>False</td>\n",
              "      <td>False</td>\n",
              "      <td>True</td>\n",
              "      <td>True</td>\n",
              "    </tr>\n",
              "    <tr>\n",
              "      <th>1</th>\n",
              "      <td>ERR1513670</td>\n",
              "      <td>No</td>\n",
              "      <td>female</td>\n",
              "      <td>70.0</td>\n",
              "      <td>33.12</td>\n",
              "      <td>Atlanta, GA</td>\n",
              "      <td>N</td>\n",
              "      <td>No</td>\n",
              "      <td>Yes</td>\n",
              "      <td>N</td>\n",
              "      <td>...</td>\n",
              "      <td>No</td>\n",
              "      <td>NaN</td>\n",
              "      <td>Few times a month</td>\n",
              "      <td>At least once a day</td>\n",
              "      <td>At least once a day</td>\n",
              "      <td>At least once a day</td>\n",
              "      <td>False</td>\n",
              "      <td>False</td>\n",
              "      <td>False</td>\n",
              "      <td>True</td>\n",
              "    </tr>\n",
              "    <tr>\n",
              "      <th>2</th>\n",
              "      <td>ERR1513671</td>\n",
              "      <td>No</td>\n",
              "      <td>female</td>\n",
              "      <td>79.0</td>\n",
              "      <td>32.28</td>\n",
              "      <td>Atlanta, GA</td>\n",
              "      <td>N</td>\n",
              "      <td>No</td>\n",
              "      <td>No</td>\n",
              "      <td>N</td>\n",
              "      <td>...</td>\n",
              "      <td>No</td>\n",
              "      <td>Yes</td>\n",
              "      <td>At least once a day</td>\n",
              "      <td>At least once a day</td>\n",
              "      <td>At least once a day</td>\n",
              "      <td>At least once a day</td>\n",
              "      <td>False</td>\n",
              "      <td>False</td>\n",
              "      <td>False</td>\n",
              "      <td>False</td>\n",
              "    </tr>\n",
              "    <tr>\n",
              "      <th>3</th>\n",
              "      <td>ERR1513672</td>\n",
              "      <td>No</td>\n",
              "      <td>female</td>\n",
              "      <td>70.0</td>\n",
              "      <td>24.44</td>\n",
              "      <td>Atlanta, GA</td>\n",
              "      <td>N</td>\n",
              "      <td>No</td>\n",
              "      <td>No</td>\n",
              "      <td>N</td>\n",
              "      <td>...</td>\n",
              "      <td>No</td>\n",
              "      <td>No</td>\n",
              "      <td>Few times a week</td>\n",
              "      <td>At least once a day</td>\n",
              "      <td>Few times a week</td>\n",
              "      <td>At least once a day</td>\n",
              "      <td>False</td>\n",
              "      <td>False</td>\n",
              "      <td>True</td>\n",
              "      <td>False</td>\n",
              "    </tr>\n",
              "    <tr>\n",
              "      <th>4</th>\n",
              "      <td>ERR1513673</td>\n",
              "      <td>No</td>\n",
              "      <td>male</td>\n",
              "      <td>76.0</td>\n",
              "      <td>25.06</td>\n",
              "      <td>Atlanta, GA</td>\n",
              "      <td>N</td>\n",
              "      <td>No</td>\n",
              "      <td>Yes</td>\n",
              "      <td>N</td>\n",
              "      <td>...</td>\n",
              "      <td>No</td>\n",
              "      <td>NaN</td>\n",
              "      <td>At least once a day</td>\n",
              "      <td>Few times a week</td>\n",
              "      <td>At least once a day</td>\n",
              "      <td>Few times a week</td>\n",
              "      <td>False</td>\n",
              "      <td>False</td>\n",
              "      <td>True</td>\n",
              "      <td>True</td>\n",
              "    </tr>\n",
              "  </tbody>\n",
              "</table>\n",
              "<p>5 rows × 39 columns</p>\n",
              "</div>\n",
              "    <div class=\"colab-df-buttons\">\n",
              "\n",
              "  <div class=\"colab-df-container\">\n",
              "    <button class=\"colab-df-convert\" onclick=\"convertToInteractive('df-e9409693-23e1-45f9-b925-c6b825be7d22')\"\n",
              "            title=\"Convert this dataframe to an interactive table.\"\n",
              "            style=\"display:none;\">\n",
              "\n",
              "  <svg xmlns=\"http://www.w3.org/2000/svg\" height=\"24px\" viewBox=\"0 -960 960 960\">\n",
              "    <path d=\"M120-120v-720h720v720H120Zm60-500h600v-160H180v160Zm220 220h160v-160H400v160Zm0 220h160v-160H400v160ZM180-400h160v-160H180v160Zm440 0h160v-160H620v160ZM180-180h160v-160H180v160Zm440 0h160v-160H620v160Z\"/>\n",
              "  </svg>\n",
              "    </button>\n",
              "\n",
              "  <style>\n",
              "    .colab-df-container {\n",
              "      display:flex;\n",
              "      gap: 12px;\n",
              "    }\n",
              "\n",
              "    .colab-df-convert {\n",
              "      background-color: #E8F0FE;\n",
              "      border: none;\n",
              "      border-radius: 50%;\n",
              "      cursor: pointer;\n",
              "      display: none;\n",
              "      fill: #1967D2;\n",
              "      height: 32px;\n",
              "      padding: 0 0 0 0;\n",
              "      width: 32px;\n",
              "    }\n",
              "\n",
              "    .colab-df-convert:hover {\n",
              "      background-color: #E2EBFA;\n",
              "      box-shadow: 0px 1px 2px rgba(60, 64, 67, 0.3), 0px 1px 3px 1px rgba(60, 64, 67, 0.15);\n",
              "      fill: #174EA6;\n",
              "    }\n",
              "\n",
              "    .colab-df-buttons div {\n",
              "      margin-bottom: 4px;\n",
              "    }\n",
              "\n",
              "    [theme=dark] .colab-df-convert {\n",
              "      background-color: #3B4455;\n",
              "      fill: #D2E3FC;\n",
              "    }\n",
              "\n",
              "    [theme=dark] .colab-df-convert:hover {\n",
              "      background-color: #434B5C;\n",
              "      box-shadow: 0px 1px 3px 1px rgba(0, 0, 0, 0.15);\n",
              "      filter: drop-shadow(0px 1px 2px rgba(0, 0, 0, 0.3));\n",
              "      fill: #FFFFFF;\n",
              "    }\n",
              "  </style>\n",
              "\n",
              "    <script>\n",
              "      const buttonEl =\n",
              "        document.querySelector('#df-e9409693-23e1-45f9-b925-c6b825be7d22 button.colab-df-convert');\n",
              "      buttonEl.style.display =\n",
              "        google.colab.kernel.accessAllowed ? 'block' : 'none';\n",
              "\n",
              "      async function convertToInteractive(key) {\n",
              "        const element = document.querySelector('#df-e9409693-23e1-45f9-b925-c6b825be7d22');\n",
              "        const dataTable =\n",
              "          await google.colab.kernel.invokeFunction('convertToInteractive',\n",
              "                                                    [key], {});\n",
              "        if (!dataTable) return;\n",
              "\n",
              "        const docLinkHtml = 'Like what you see? Visit the ' +\n",
              "          '<a target=\"_blank\" href=https://colab.research.google.com/notebooks/data_table.ipynb>data table notebook</a>'\n",
              "          + ' to learn more about interactive tables.';\n",
              "        element.innerHTML = '';\n",
              "        dataTable['output_type'] = 'display_data';\n",
              "        await google.colab.output.renderOutput(dataTable, element);\n",
              "        const docLink = document.createElement('div');\n",
              "        docLink.innerHTML = docLinkHtml;\n",
              "        element.appendChild(docLink);\n",
              "      }\n",
              "    </script>\n",
              "  </div>\n",
              "\n",
              "\n",
              "    <div id=\"df-5fe2b8ef-2d17-4d51-a05f-90fb9093f0ef\">\n",
              "      <button class=\"colab-df-quickchart\" onclick=\"quickchart('df-5fe2b8ef-2d17-4d51-a05f-90fb9093f0ef')\"\n",
              "                title=\"Suggest charts\"\n",
              "                style=\"display:none;\">\n",
              "\n",
              "<svg xmlns=\"http://www.w3.org/2000/svg\" height=\"24px\"viewBox=\"0 0 24 24\"\n",
              "     width=\"24px\">\n",
              "    <g>\n",
              "        <path d=\"M19 3H5c-1.1 0-2 .9-2 2v14c0 1.1.9 2 2 2h14c1.1 0 2-.9 2-2V5c0-1.1-.9-2-2-2zM9 17H7v-7h2v7zm4 0h-2V7h2v10zm4 0h-2v-4h2v4z\"/>\n",
              "    </g>\n",
              "</svg>\n",
              "      </button>\n",
              "\n",
              "<style>\n",
              "  .colab-df-quickchart {\n",
              "      --bg-color: #E8F0FE;\n",
              "      --fill-color: #1967D2;\n",
              "      --hover-bg-color: #E2EBFA;\n",
              "      --hover-fill-color: #174EA6;\n",
              "      --disabled-fill-color: #AAA;\n",
              "      --disabled-bg-color: #DDD;\n",
              "  }\n",
              "\n",
              "  [theme=dark] .colab-df-quickchart {\n",
              "      --bg-color: #3B4455;\n",
              "      --fill-color: #D2E3FC;\n",
              "      --hover-bg-color: #434B5C;\n",
              "      --hover-fill-color: #FFFFFF;\n",
              "      --disabled-bg-color: #3B4455;\n",
              "      --disabled-fill-color: #666;\n",
              "  }\n",
              "\n",
              "  .colab-df-quickchart {\n",
              "    background-color: var(--bg-color);\n",
              "    border: none;\n",
              "    border-radius: 50%;\n",
              "    cursor: pointer;\n",
              "    display: none;\n",
              "    fill: var(--fill-color);\n",
              "    height: 32px;\n",
              "    padding: 0;\n",
              "    width: 32px;\n",
              "  }\n",
              "\n",
              "  .colab-df-quickchart:hover {\n",
              "    background-color: var(--hover-bg-color);\n",
              "    box-shadow: 0 1px 2px rgba(60, 64, 67, 0.3), 0 1px 3px 1px rgba(60, 64, 67, 0.15);\n",
              "    fill: var(--button-hover-fill-color);\n",
              "  }\n",
              "\n",
              "  .colab-df-quickchart-complete:disabled,\n",
              "  .colab-df-quickchart-complete:disabled:hover {\n",
              "    background-color: var(--disabled-bg-color);\n",
              "    fill: var(--disabled-fill-color);\n",
              "    box-shadow: none;\n",
              "  }\n",
              "\n",
              "  .colab-df-spinner {\n",
              "    border: 2px solid var(--fill-color);\n",
              "    border-color: transparent;\n",
              "    border-bottom-color: var(--fill-color);\n",
              "    animation:\n",
              "      spin 1s steps(1) infinite;\n",
              "  }\n",
              "\n",
              "  @keyframes spin {\n",
              "    0% {\n",
              "      border-color: transparent;\n",
              "      border-bottom-color: var(--fill-color);\n",
              "      border-left-color: var(--fill-color);\n",
              "    }\n",
              "    20% {\n",
              "      border-color: transparent;\n",
              "      border-left-color: var(--fill-color);\n",
              "      border-top-color: var(--fill-color);\n",
              "    }\n",
              "    30% {\n",
              "      border-color: transparent;\n",
              "      border-left-color: var(--fill-color);\n",
              "      border-top-color: var(--fill-color);\n",
              "      border-right-color: var(--fill-color);\n",
              "    }\n",
              "    40% {\n",
              "      border-color: transparent;\n",
              "      border-right-color: var(--fill-color);\n",
              "      border-top-color: var(--fill-color);\n",
              "    }\n",
              "    60% {\n",
              "      border-color: transparent;\n",
              "      border-right-color: var(--fill-color);\n",
              "    }\n",
              "    80% {\n",
              "      border-color: transparent;\n",
              "      border-right-color: var(--fill-color);\n",
              "      border-bottom-color: var(--fill-color);\n",
              "    }\n",
              "    90% {\n",
              "      border-color: transparent;\n",
              "      border-bottom-color: var(--fill-color);\n",
              "    }\n",
              "  }\n",
              "</style>\n",
              "\n",
              "      <script>\n",
              "        async function quickchart(key) {\n",
              "          const quickchartButtonEl =\n",
              "            document.querySelector('#' + key + ' button');\n",
              "          quickchartButtonEl.disabled = true;  // To prevent multiple clicks.\n",
              "          quickchartButtonEl.classList.add('colab-df-spinner');\n",
              "          try {\n",
              "            const charts = await google.colab.kernel.invokeFunction(\n",
              "                'suggestCharts', [key], {});\n",
              "          } catch (error) {\n",
              "            console.error('Error during call to suggestCharts:', error);\n",
              "          }\n",
              "          quickchartButtonEl.classList.remove('colab-df-spinner');\n",
              "          quickchartButtonEl.classList.add('colab-df-quickchart-complete');\n",
              "        }\n",
              "        (() => {\n",
              "          let quickchartButtonEl =\n",
              "            document.querySelector('#df-5fe2b8ef-2d17-4d51-a05f-90fb9093f0ef button');\n",
              "          quickchartButtonEl.style.display =\n",
              "            google.colab.kernel.accessAllowed ? 'block' : 'none';\n",
              "        })();\n",
              "      </script>\n",
              "    </div>\n",
              "\n",
              "    </div>\n",
              "  </div>\n"
            ],
            "application/vnd.google.colaboratory.intrinsic+json": {
              "type": "dataframe",
              "variable_name": "complete_metadata"
            }
          },
          "metadata": {},
          "execution_count": 6
        }
      ],
      "source": [
        "complete_metadata = pd.read_csv('complete_study/complete_metadata.tsv', sep='\\t')\n",
        "print(complete_metadata.shape)\n",
        "complete_metadata.head()"
      ]
    },
    {
      "cell_type": "markdown",
      "metadata": {
        "id": "XEVtA6pVbt2l"
      },
      "source": [
        "En el artículo original, los autores hallaron que los medicamentos anticolinérgicos, los inhibidores de la catecol-O-metiltransferasa (COMT), la ubicación, el sexo, la edad y la EP tenían señales significativas e independientes sobre la composición del microbioma. ¿Cómo varía la diversidad alfa en función de estas variables?"
      ]
    },
    {
      "cell_type": "code",
      "execution_count": null,
      "metadata": {
        "id": "CvAapcu6bt2l"
      },
      "outputs": [],
      "source": [
        "!qiime diversity alpha-group-significance \\\n",
        "    --i-alpha-diversity complete_study/diversity/shannon_vector.qza \\\n",
        "    --m-metadata-file complete_study/complete_metadata.tsv \\\n",
        "    --o-visualization complete_study/diversity/alpha_groups.qzv"
      ]
    },
    {
      "cell_type": "markdown",
      "metadata": {
        "id": "5YMWaYmhbt2l"
      },
      "source": [
        "Nuevamente, visualice en el [visor QIIME2](http://view.qiime2.org).\n",
        "\n",
        "Observe que `alpha-group-significance` realiza una prueba de Kruskal-Wallis _separada_ para cada variable y genera un valor p _sin ajustar_. Si queremos analizar _múltiples_ relaciones entre la diversidad alfa y las covariables (es decir, realizar múltiples pruebas), necesitamos _controlar la tasa de falsos descubrimientos (FDR false discovery rate) corrigiendo nuestros valores p_. Hablaremos de esto más adelante."
      ]
    },
    {
      "cell_type": "markdown",
      "metadata": {
        "tags": [],
        "id": "9cAyHe_mbt2l"
      },
      "source": [
        "### PCoA + PERMANOVA para diversidad beta"
      ]
    },
    {
      "cell_type": "markdown",
      "metadata": {
        "id": "YkMqVVnVbt2l"
      },
      "source": [
        "Como ahora tenemos n = 300+, podemos incluir más variables en nuestra PERMANOVA."
      ]
    },
    {
      "cell_type": "markdown",
      "metadata": {
        "id": "JIWOpLuTbt2m"
      },
      "source": [
        "Primero, ejecutemos PERMANOVA solo para el estado de la enfermedad para que podamos ver realmente qué hace la adición de covariables en nuestros resultados."
      ]
    },
    {
      "cell_type": "code",
      "execution_count": null,
      "metadata": {
        "id": "aZNMsTMLbt2m"
      },
      "outputs": [],
      "source": [
        "!qiime diversity adonis \\\n",
        "    --i-distance-matrix complete_study/diversity/weighted_unifrac_distance_matrix.qza \\\n",
        "    --m-metadata-file complete_study/complete_metadata.tsv \\\n",
        "    --p-formula \"parkinson_disease\" \\\n",
        "    --p-n-jobs 2 \\\n",
        "    --o-visualization complete_study/diversity/permanova_PD.qzv"
      ]
    },
    {
      "cell_type": "markdown",
      "metadata": {
        "id": "f8j2lfsVbt2m"
      },
      "source": [
        "Si observa la tabla en el [visor QIIME2](http://view.qiime2.org), notará que, dado que el tamaño de nuestra muestra aumentó, el efecto de PD en la diversidad beta de UniFrac (aunque muy pequeño en R cuadrado = 0,01) ahora es significativo (al menos antes de las correcciones FDR)."
      ]
    },
    {
      "cell_type": "markdown",
      "metadata": {
        "id": "SfXYDSJObt2m"
      },
      "source": [
        "También podemos usar PERMANOVA para identificar factores de confusión. PERMANOVA nos indica cuánta varianza en la composición de la comunidad explica cada variable. Los factores de confusión comunes incluyen el sexo, la edad, el IMC, la dieta y el uso de antibióticos. En el estudio original, los autores identificaron que los medicamentos para la enfermedad de Parkinson se asociaban con diferentes composiciones del microbioma. Analicemos estas variables."
      ]
    },
    {
      "cell_type": "markdown",
      "metadata": {
        "id": "sO5gkclObt2m"
      },
      "source": [
        "Let's look at the metadata file to see which variables have NaN values.\n",
        "\n",
        "Pero espere: `adonis` requiere que las variables de la fórmula no tengan valores NaN ni valores faltantes. Si intentáramos ejecutar `adonis` con todas estas variables, generaría un error. Por lo tanto, tendremos que **filtrar** las muestras con valores NA para las variables que queramos probar.\n",
        "\n",
        "Revisemos el archivo de metadatos para ver qué variables tienen valores NaN."
      ]
    },
    {
      "cell_type": "code",
      "execution_count": null,
      "metadata": {
        "id": "Zh1Vzpv1bt2m"
      },
      "outputs": [],
      "source": [
        "metadata_perm = complete_metadata[['parkinson_disease', 'sex', 'age', 'bmi', 'comt_inhibitor', 'carbidopa_levodopa', 'anticholinergic', 'location']].copy()\n",
        "metadata_perm"
      ]
    },
    {
      "cell_type": "code",
      "execution_count": null,
      "metadata": {
        "id": "XHPU4RK1bt2m"
      },
      "outputs": [],
      "source": [
        "# ¿Qué variables tienen valores N/A para la PERMANOVA que queremos ejecutar?\n",
        "col_na_num = metadata_perm.isna().sum()\n",
        "col_na = col_na_num[col_na_num > 0]\n",
        "col_na"
      ]
    },
    {
      "cell_type": "markdown",
      "metadata": {
        "id": "ankPUJcxbt2m"
      },
      "source": [
        "Parece que un subconjunto de personas no respondió estas preguntas. ¿Cuántas muestras tendremos si las descartamos?"
      ]
    },
    {
      "cell_type": "code",
      "execution_count": null,
      "metadata": {
        "id": "deDT9Fy9bt2m"
      },
      "outputs": [],
      "source": [
        "metadata_perm.dropna(axis=0, subset=['bmi', 'comt_inhibitor', 'carbidopa_levodopa', 'anticholinergic'], how='any')"
      ]
    },
    {
      "cell_type": "markdown",
      "metadata": {
        "id": "gi9X0r4abt2m"
      },
      "source": [
        "Esta vez podemos usar la acción QIIME `filter-distance-matrix`"
      ]
    },
    {
      "cell_type": "code",
      "execution_count": null,
      "metadata": {
        "id": "E3cIa3Hebt2m"
      },
      "outputs": [],
      "source": [
        "# filter QIIME table\n",
        "!qiime diversity filter-distance-matrix \\\n",
        "    --i-distance-matrix complete_study/diversity/weighted_unifrac_distance_matrix.qza \\\n",
        "    --m-metadata-file complete_study/complete_metadata.tsv \\\n",
        "    --p-where \"[bmi] IS NOT NULL AND [comt_inhibitor] IS NOT NULL AND [carbidopa_levodopa] IS NOT NULL AND [anticholinergic] IS NOT NULL\" \\\n",
        "    --o-filtered-distance-matrix complete_study/diversity/weighted_unifrac_distance_matrix_no_NA.qza"
      ]
    },
    {
      "cell_type": "code",
      "execution_count": null,
      "metadata": {
        "id": "4UTR5RpNbt2m"
      },
      "outputs": [],
      "source": [
        "!qiime diversity adonis \\\n",
        "    --i-distance-matrix complete_study/diversity/weighted_unifrac_distance_matrix_no_NA.qza \\\n",
        "    --m-metadata-file complete_study/complete_metadata.tsv \\\n",
        "    --p-formula \"parkinson_disease + sex + age + bmi + location + comt_inhibitor + carbidopa_levodopa + anticholinergic\" \\\n",
        "    --p-n-jobs 2 \\\n",
        "    --o-visualization complete_study/diversity/permanova_with_confounders.qzv"
      ]
    },
    {
      "cell_type": "markdown",
      "metadata": {
        "id": "G_7Wd3Chbt2m"
      },
      "source": [
        "Anteriormente, no observábamos un valor p significativo para el efecto de la enfermedad de Parkinson en la diversidad beta. Sin embargo, al añadir ciertas covariables, podríamos descubrir que confundían una relación.\n",
        "\n",
        "Sin embargo, la mayor parte de nuestra varianza permanece sin explicar. La composición del microbioma se ve afectada por muchos factores, y este es un estudio de cohorte no controlado, por lo que no esperaríamos que una sola variable explicara la mayor parte de la varianza."
      ]
    },
    {
      "cell_type": "markdown",
      "metadata": {
        "id": "_H1kVbqtbt2m"
      },
      "source": [
        "#### Reducción de dimensionalidad"
      ]
    },
    {
      "cell_type": "markdown",
      "metadata": {
        "id": "nzY205L4bt2m"
      },
      "source": [
        "Si queremos mostrar visualmente esta separación entre muestras, no podemos simplemente graficar la matriz de distancias UniFrac completa, ya que tiene más de 100 dimensiones. En su lugar, podemos usar la **reducción de dimensionalidad** para comprimir nuestros datos en unas pocas dimensiones que expliquen la mayor parte de la varianza. Existen varios tipos de reducción de dimensionalidad (como UMAP y tSNE), pero el método preferido para las comunidades de microbiomas es el Análisis de Coordenadas Principales (PCoA). Esto se debe a que el PCoA es lineal y, por lo tanto, preserva la estructura global de los datos y es reproducible."
      ]
    },
    {
      "cell_type": "markdown",
      "metadata": {
        "id": "pobexi8Jbt2m"
      },
      "source": [
        "Ya ejecutamos un PCoAs para cada métrica de distancia y podemos verlos si los descargamos. `weighted_unifrac_emperor.qzv`, `unweighted_unifrac_emperor.qzv`, `bray_curtis_emperor.qzv`, or `jaccard_emperor.qzv`"
      ]
    },
    {
      "cell_type": "markdown",
      "metadata": {
        "id": "XTXoJhjs0fAY"
      },
      "source": [
        "---\n",
        "# Clasificación taxonómica"
      ]
    },
    {
      "cell_type": "markdown",
      "metadata": {
        "id": "Nb_EWFYRbt2m"
      },
      "source": [
        "### De ASV a tabla de recuento taxonómico"
      ]
    },
    {
      "cell_type": "markdown",
      "metadata": {
        "id": "CR2f0q4trGfA"
      },
      "source": [
        "Podemos aprender mucho de las métricas de diversidad, alfa y beta. Pero para analizar a fondo los datos, necesitamos saber qué microbios hay en cada muestra 🦠. Para ello, clasificaremos las lecturas en QIIME2 utilizando un clasificador bayesiano preentrenado. Varios clasificadores de este tipo están disponibles en https://docs.qiime2.org/2024.5/data-resources/\n",
        "\n",
        "Desde el plugin `feature-classifier` de QIIME2, usaremos la acción `classifiy-sklearn`, que toma como entrada los ASV y un clasificador scikit-learn preentrenado. Utilizamos un clasificador bayesiano ingenuo específico para la región 16S V4 (515f-806r) porque es la región que secuenciamos."
      ]
    },
    {
      "cell_type": "code",
      "execution_count": null,
      "metadata": {
        "id": "firXAVIHrEzT"
      },
      "outputs": [],
      "source": [
        "# run a classifier on our 10-sample mini dataset\n",
        "!qiime feature-classifier classify-sklearn \\\n",
        "    --i-reads dada/representative_sequences.qza \\\n",
        "    --i-classifier ncbi-refseq-16S-v4-classifier.qza \\\n",
        "    --p-n-jobs 2 \\\n",
        "    --o-classification taxa.qza"
      ]
    },
    {
      "cell_type": "markdown",
      "metadata": {
        "id": "ftEKkIx-uJtA"
      },
      "source": [
        "Ahora que hemos clasificado las lecturas, podemos visualizar el desglose taxonómico de nuestras muestras."
      ]
    },
    {
      "cell_type": "code",
      "execution_count": null,
      "metadata": {
        "id": "RSRrxhX7x4dE"
      },
      "outputs": [],
      "source": [
        "!qiime taxa barplot \\\n",
        "    --i-table dada/table.qza \\\n",
        "    --i-taxonomy taxa.qza \\\n",
        "    --m-metadata-file data/metadata.tsv \\\n",
        "    --o-visualization taxa_barplot.qzv"
      ]
    },
    {
      "cell_type": "markdown",
      "metadata": {
        "id": "LbZ2f-kOx4jY"
      },
      "source": [
        "Ahora, podemos usar ```table.qza```, que contiene nuestras lecturas, y ```taxa.qza```, que contiene clasificaciones taxonómicas para las lecturas, y colapsar los datos al nivel de género."
      ]
    },
    {
      "cell_type": "code",
      "execution_count": null,
      "metadata": {
        "id": "XTClvRnXx4ob"
      },
      "outputs": [],
      "source": [
        "!qiime taxa collapse \\\n",
        "    --i-table dada/table.qza \\\n",
        "    --i-taxonomy taxa.qza \\\n",
        "    --p-level 6 \\\n",
        "    --o-collapsed-table genus.qza"
      ]
    },
    {
      "cell_type": "markdown",
      "metadata": {
        "id": "BVI58UcPbt2n"
      },
      "source": [
        "### Exportando su tabla de taxones"
      ]
    },
    {
      "cell_type": "markdown",
      "metadata": {
        "id": "zZPj_eiux9DP"
      },
      "source": [
        "Las tablas de características taxonómicas en QIIME2 se pueden exportar como archivos .biom, que luego se pueden convertir a archivos .tsv si se desea. Esto es importante, ya que algunos métodos de análisis no disponibles en QIIME2 podrían requerir los formatos .biom o .tsv."
      ]
    },
    {
      "cell_type": "code",
      "source": [
        "#instalar biom-format\n",
        "!pip install biom-format pandas"
      ],
      "metadata": {
        "id": "SFLoNeOYeNI8"
      },
      "execution_count": null,
      "outputs": []
    },
    {
      "cell_type": "code",
      "execution_count": null,
      "metadata": {
        "id": "deJ-FLcTx9Jq"
      },
      "outputs": [],
      "source": [
        "!qiime tools export \\\n",
        "    --input-path genus.qza \\\n",
        "    --output-path exported\n",
        "\n",
        "!biom convert -i exported/feature-table.biom -o genus.tsv --to-tsv"
      ]
    },
    {
      "cell_type": "markdown",
      "metadata": {
        "id": "_1jjxJv5Pzwr"
      },
      "source": [
        "Echemos un vistazo a los resultados. 🔭"
      ]
    },
    {
      "cell_type": "code",
      "execution_count": null,
      "metadata": {
        "id": "nrq3gtn42kWv"
      },
      "outputs": [],
      "source": [
        "abundances = pd.read_table(\"genus.tsv\", skiprows=1, index_col=0)\n",
        "abundances"
      ]
    },
    {
      "cell_type": "markdown",
      "metadata": {
        "id": "ROKU7_tcyFKD"
      },
      "source": [
        "Esto es más fácil de interpretar visualizando los resultados. Podemos usar el archivo que acabamos de exportar de QIIME2 para crear una visualización con cualquier herramienta que prefiramos, como seaborn o plotnine.\n",
        "\n",
        "A continuación, se muestra un ejemplo de creación de una visualización (un mapa de calor) en seaborn:"
      ]
    },
    {
      "cell_type": "code",
      "execution_count": null,
      "metadata": {
        "id": "vC5qKf680fAa"
      },
      "outputs": [],
      "source": [
        "import numpy as np\n",
        "import seaborn as sns"
      ]
    },
    {
      "cell_type": "code",
      "execution_count": null,
      "metadata": {
        "id": "YOHG-0nXquu5"
      },
      "outputs": [],
      "source": [
        "abund_to_plot = abundances.copy()\n",
        "abund_to_plot.index = abund_to_plot.index.str.split(\";\").str[5]          # Utilice únicamente el nombre del género\n",
        "abund_to_plot = abund_to_plot[~abund_to_plot.index.isin([\"g__\", \"__\"])]  # eliminar géneros no clasificados\n",
        "abund_to_plot = abund_to_plot.sample(50, axis=0)                         # utilizar 50 géneros aleatorios (filas)\n",
        "\n",
        "# Hagamos una transformación logarítmica centrada: log x_i - log mean(x)\n",
        "transformed = abund_to_plot.apply(\n",
        "    lambda xs: np.log(xs + 0.5) - np.log(xs.mean() + 0.5),\n",
        "    axis=0)\n",
        "\n",
        "sns.clustermap(transformed.T, cmap=\"magma\", xticklabels=True, figsize=(16, 6))"
      ]
    },
    {
      "cell_type": "markdown",
      "metadata": {
        "id": "GfzsEjtS0fAb"
      },
      "source": [
        "Ahora, nuestros datos empiezan a ser interpretables. Cada fila representa una muestra y cada columna un género bacteriano. Los valores de la tabla son \"conteos\", o el número de veces que se detectó un género en una muestra determinada. Podemos usar datos de abundancia relativa para comprobar hipótesis, pero requiere métodos estadísticos especiales porque es ___composicional___.\n",
        "\n",
        "Analicemos qué podemos hacer al respecto en la **presentación**"
      ]
    },
    {
      "cell_type": "markdown",
      "metadata": {
        "id": "-N5E8lW40fAb"
      },
      "source": [
        "---\n",
        "# Análisis de abundancia diferencial"
      ]
    },
    {
      "cell_type": "markdown",
      "metadata": {
        "id": "V25AyTGMbt2n"
      },
      "source": [
        "Veamos las abundancias en el conjunto de datos _completo_, para que pueda ver las distribuciones de abundancia."
      ]
    },
    {
      "cell_type": "markdown",
      "metadata": {
        "id": "bTepWWekbt2n"
      },
      "source": [
        "Vamos a cambiar a Python para mostrarte estas transformaciones, por lo que necesitaremos algunos paquetes más. 📦"
      ]
    },
    {
      "cell_type": "code",
      "execution_count": null,
      "metadata": {
        "id": "FUNyEU1hbt2n"
      },
      "outputs": [],
      "source": [
        "import scipy.stats as stats\n",
        "import matplotlib.pyplot as plt"
      ]
    },
    {
      "cell_type": "markdown",
      "metadata": {
        "tags": [],
        "id": "Xl-6eht6bt2n"
      },
      "source": [
        "### Conteos de abundancia relativa:"
      ]
    },
    {
      "cell_type": "markdown",
      "metadata": {
        "id": "D8tsrNePbt2n"
      },
      "source": [
        "Antes de realizar cualquier prueba, debemos dividir el número de géneros entre el número total de muestras. Esto nos da la _abundancia relativa_."
      ]
    },
    {
      "cell_type": "code",
      "execution_count": null,
      "metadata": {
        "id": "uQ0qDgFebt2n"
      },
      "outputs": [],
      "source": [
        "complete_abundances = pd.read_table('complete_study/genus.tsv', skiprows=1, index_col=0)\n",
        "complete_abundances"
      ]
    },
    {
      "cell_type": "code",
      "execution_count": null,
      "metadata": {
        "id": "qbK88716bt2n"
      },
      "outputs": [],
      "source": [
        "rel_abund = complete_abundances.divide(complete_abundances.sum(axis=0), axis=1)     # divide all values in a row by the sum of the row\n",
        "rel_abund"
      ]
    },
    {
      "cell_type": "markdown",
      "metadata": {
        "tags": [],
        "id": "yfDfiDFubt2n"
      },
      "source": [
        "### Preprocesamiento"
      ]
    },
    {
      "cell_type": "markdown",
      "metadata": {
        "id": "dZk100kBbt2n"
      },
      "source": [
        "¿Existen filas que tengan todo cero?"
      ]
    },
    {
      "cell_type": "code",
      "execution_count": null,
      "metadata": {
        "id": "8PSoy4sJbt2n"
      },
      "outputs": [],
      "source": [
        "rows_with_zeros = rel_abund.eq(0).all(axis=1)\n",
        "count_row_zeros = rows_with_zeros.sum()\n",
        "count_row_zeros"
      ]
    },
    {
      "cell_type": "markdown",
      "metadata": {
        "id": "HmSpM5b8bt2n"
      },
      "source": [
        "¿Cuántas filas (géneros) no están presentes en la mayoría de las muestras (cero en >80% de las muestras)?"
      ]
    },
    {
      "cell_type": "code",
      "execution_count": null,
      "metadata": {
        "id": "uWNPKDSybt2n"
      },
      "outputs": [],
      "source": [
        "# identificar filas dispersas\n",
        "num_zeros_row = rel_abund.eq(0).sum(axis=1)\n",
        "num_cols = rel_abund.shape[1]\n",
        "sparse_rows = num_zeros_row > (0.8 * num_cols)\n",
        "print(sparse_rows.sum())\n",
        "\n",
        "# eliminar filas dispersas\n",
        "abund_filt = rel_abund[~sparse_rows]\n",
        "\n",
        "# transponer para hacer filas de muestras en lugar de géneros (que coincida con el formato de nuestros metadatos)\n",
        "abund_filt = abund_filt.T\n",
        "abund_filt"
      ]
    },
    {
      "cell_type": "markdown",
      "metadata": {
        "id": "BvAcmvLBbt2n"
      },
      "source": [
        "Guarde los nombres de las columnas de géneros en una lista y luego fusione las tablas de abundancia y metadatos."
      ]
    },
    {
      "cell_type": "code",
      "execution_count": null,
      "metadata": {
        "tags": [],
        "id": "pONSgi4abt2n"
      },
      "outputs": [],
      "source": [
        "genus_columns = abund_filt.columns                                                            # obtener una lista de nombres de columnas de abundancia\n",
        "complete_metadata.set_index('id', inplace=True)                                               # cambiar el índice (nombres de filas) de los metadatos a la columna 'id'\n",
        "merged_rel_abund = complete_metadata.merge(abund_filt, left_index=True, right_index=True)     # fusionar los dos marcos de datos por su índice (nombres de fila)"
      ]
    },
    {
      "cell_type": "code",
      "execution_count": null,
      "metadata": {
        "id": "fh-dap1Cbt2o"
      },
      "outputs": [],
      "source": [
        "# Hacer un histograma de Faecalibacterium dividido por estado de PD\n",
        "\n",
        "sns.displot(data=merged_rel_abund,\n",
        "            x='k__Bacteria;p__Firmicutes;c__Clostridia;o__Eubacteriales;f__Oscillospiraceae;g__Faecalibacterium',\n",
        "            hue='parkinson_disease')\n",
        "\n",
        "plt.xlabel('Faecalibacterium relative abundance')\n",
        "plt.ylabel('Number of samples')\n",
        "plt.show()"
      ]
    },
    {
      "cell_type": "markdown",
      "metadata": {
        "tags": [],
        "id": "4pOlfTqsbt2o"
      },
      "source": [
        "### 1. Pruebas no paramétricas"
      ]
    },
    {
      "cell_type": "markdown",
      "metadata": {
        "id": "NoUbB9VLbt2o"
      },
      "source": [
        "Si quisiéramos comprobar si _Faecalibacterium_ específicamente era diferencialmente abundante en PD, podríamos hacer esto:"
      ]
    },
    {
      "cell_type": "code",
      "execution_count": null,
      "metadata": {
        "id": "yYRlk8pqbt2o"
      },
      "outputs": [],
      "source": [
        "# Dividir la variable de interés en 2 listas por estado de PD\n",
        "faecali_pd = merged_rel_abund[merged_rel_abund['parkinson_disease'] == 'Yes']['k__Bacteria;p__Firmicutes;c__Clostridia;o__Eubacteriales;f__Oscillospiraceae;g__Faecalibacterium']\n",
        "faecali_hc = merged_rel_abund[merged_rel_abund['parkinson_disease'] == 'No']['k__Bacteria;p__Firmicutes;c__Clostridia;o__Eubacteriales;f__Oscillospiraceae;g__Faecalibacterium']\n",
        "\n",
        "u_stat, p_value = stats.mannwhitneyu(faecali_pd, faecali_hc, alternative='two-sided')\n",
        "\n",
        "print(f\"U-statistic: {u_stat}\")\n",
        "print(f\"p-value: {p_value}\")"
      ]
    },
    {
      "cell_type": "markdown",
      "metadata": {
        "id": "KS99eucgbt2o"
      },
      "source": [
        "Veríamos que sí, si solo realizamos una prueba, parece que la abundancia relativa media de _Faecalibacterium_ es significativamente diferente entre PD y controles sanos (con p < 0.05)"
      ]
    },
    {
      "cell_type": "markdown",
      "metadata": {
        "id": "9WpuiSNrbt2o"
      },
      "source": [
        "### 2. Normalización + pruebas paramétricas:"
      ]
    },
    {
      "cell_type": "markdown",
      "metadata": {
        "id": "Ru6pw55ibt2o"
      },
      "source": [
        "Antes de que podamos realizar una transformación CLR, tenemos que agregar un pseudocount, porque log(0) no existe."
      ]
    },
    {
      "cell_type": "code",
      "execution_count": null,
      "metadata": {
        "id": "Uxuhcw1nbt2o"
      },
      "outputs": [],
      "source": [
        "# realizar un seguimiento de qué valores son distintos de cero\n",
        "abund_nonzero = abund_filt > 0\n",
        "\n",
        "# añadir un pseudoconteo\n",
        "abund_filt_pseudo = abund_filt + 0.0000001\n",
        "abund_filt_pseudo"
      ]
    },
    {
      "cell_type": "markdown",
      "metadata": {
        "id": "y5qbCqp3bt2o"
      },
      "source": [
        "Ahora que tenemos pseudoconteos, podemos realizar la transformación CLR. Aquí, usamos la función gmean de scipy.stats.mstats y calculamos el CLR manualmente.\n",
        "\n",
        "La transformación de razón logarítmica centrada (clr) divide cada parte de la composición entre la media geométrica de todas las partes."
      ]
    },
    {
      "cell_type": "code",
      "execution_count": null,
      "metadata": {
        "id": "XNuwWImFbt2o"
      },
      "outputs": [],
      "source": [
        "# crear una nueva columna para la media geometrica\n",
        "abund_clr = abund_filt_pseudo.copy()\n",
        "abund_clr['gmean'] = abund_clr.apply(stats.mstats.gmean, axis=1, nan_policy='omit')\n",
        "\n",
        "# actual CLR\n",
        "abund_clr = np.log(abund_clr.divide(abund_clr['gmean'], axis=0))\n",
        "\n",
        "# Verifique gmean para asegurarse de que CLR se realizó correctamente\n",
        "# gmean debe ser todo ceros (because log(x)/log(x) = log(x/x) = log(1) = 0)\n",
        "abund_clr"
      ]
    },
    {
      "cell_type": "code",
      "execution_count": null,
      "metadata": {
        "id": "IYj4RK1kbt2o"
      },
      "outputs": [],
      "source": [
        "# drop gmean\n",
        "abund_clr.drop(columns='gmean', inplace=True)"
      ]
    },
    {
      "cell_type": "markdown",
      "metadata": {
        "id": "Kro13tpLbt2o"
      },
      "source": [
        "Ahora, veamos cómo afectó la transformación a nuestros datos. Podemos crear el mismo gráfico que antes."
      ]
    },
    {
      "cell_type": "code",
      "execution_count": null,
      "metadata": {
        "id": "mOvg8xVhbt2o"
      },
      "outputs": [],
      "source": [
        "sns.displot(data=abund_clr,\n",
        "            x='k__Bacteria;p__Firmicutes;c__Clostridia;o__Eubacteriales;f__Oscillospiraceae;g__Faecalibacterium')\n",
        "plt.xlabel('Faecalibacterium CLR')\n",
        "plt.ylabel('Number of samples')\n",
        "plt.show()"
      ]
    },
    {
      "cell_type": "markdown",
      "metadata": {
        "id": "ZwUu2Ftpbt2o"
      },
      "source": [
        "Ahora, tenemos una distribución bimodal debido a la presencia de ceros. En este punto, la opción más conservadora es eliminar estos valores, ya que no podemos estar seguros de si son ceros verdaderos."
      ]
    },
    {
      "cell_type": "code",
      "execution_count": null,
      "metadata": {
        "id": "nh5b3wI7bt2o"
      },
      "outputs": [],
      "source": [
        "# descartar las muestras que fueron cero (hacer NA para que no se grafiquen)\n",
        "abund_clr_nonzero = abund_clr[abund_nonzero]"
      ]
    },
    {
      "cell_type": "code",
      "execution_count": null,
      "metadata": {
        "id": "HiRKOFGybt2o"
      },
      "outputs": [],
      "source": [
        "# Ahora intenta trazar de nuevo\n",
        "sns.displot(data=abund_clr_nonzero,\n",
        "            x='k__Bacteria;p__Firmicutes;c__Clostridia;o__Eubacteriales;f__Oscillospiraceae;g__Faecalibacterium')\n",
        "plt.xlabel('Faecalibacterium CLR')\n",
        "plt.ylabel('Number of samples')\n",
        "plt.show()"
      ]
    },
    {
      "cell_type": "markdown",
      "metadata": {
        "id": "NYEjCFSwbt2o"
      },
      "source": [
        "Ahora nuestros datos son _bastante normales_ (aunque aún un poco distorsionados), pero probablemente seguros para usar con pruebas paramétricas. Esto significa que estamos listos para fusionarlos de nuevo con los metadatos."
      ]
    },
    {
      "cell_type": "code",
      "execution_count": null,
      "metadata": {
        "id": "jci3xXikbt2o"
      },
      "outputs": [],
      "source": [
        "merged_clr = complete_metadata.merge(abund_clr_nonzero, left_index=True, right_index=True)     # fusionar los dos marcos de datos por su índice (nombres de fila)\n",
        "merged_clr"
      ]
    },
    {
      "cell_type": "markdown",
      "metadata": {
        "id": "du_XL4LSbt2o"
      },
      "source": [
        "El código para realizar una prueba t es muy similar al de una prueba U de Mann-Whitney, pero también necesitamos eliminar los NA.\n",
        "\n",
        "Podemos lograr esto añadiendo `dropna()` al final de nuestra asignación de grupo."
      ]
    },
    {
      "cell_type": "code",
      "execution_count": null,
      "metadata": {
        "id": "sxIK9SHcbt2o"
      },
      "outputs": [],
      "source": [
        "# Cómo haríamos una prueba t\n",
        "faecali_clr_pd = merged_clr[merged_clr['parkinson_disease'] == 'Yes']['k__Bacteria;p__Firmicutes;c__Clostridia;o__Eubacteriales;f__Oscillospiraceae;g__Faecalibacterium'].dropna()\n",
        "faecali_clr_hc = merged_clr[merged_clr['parkinson_disease'] == 'No']['k__Bacteria;p__Firmicutes;c__Clostridia;o__Eubacteriales;f__Oscillospiraceae;g__Faecalibacterium'].dropna()\n",
        "\n",
        "t_stat, p_val = stats.ttest_ind(faecali_clr_pd, faecali_clr_hc, equal_var=False)\n",
        "\n",
        "print(f\"T-stat: {t_stat}\")\n",
        "print(f\"p-value: {p_val}\")"
      ]
    },
    {
      "cell_type": "markdown",
      "metadata": {
        "id": "mhKbWzfGbt2o"
      },
      "source": [
        "En personas con cantidades _medibles_ de Faecalibacterium, las personas con EP tienen niveles significativamente menores de Faecalibacterium que las personas sin EP.\n",
        "\n",
        "Observe cómo, al recortar nuestros datos, ahora estamos evaluando una pregunta diferente."
      ]
    },
    {
      "cell_type": "markdown",
      "metadata": {
        "id": "8rXcJOOBbt2o"
      },
      "source": [
        "### Pruebas múltiples y corrección FDR:"
      ]
    },
    {
      "cell_type": "markdown",
      "metadata": {
        "id": "N3wTs68Tbt2o"
      },
      "source": [
        "Con tantos datos interesantes, sería bastante tedioso probar las variables una por una. Por eso creamos anteriormente la lista `genus_column`."
      ]
    },
    {
      "cell_type": "code",
      "execution_count": null,
      "metadata": {
        "id": "T72aQ_pFbt2o"
      },
      "outputs": [],
      "source": [
        "# Crea una lista vacía para almacenar los resultados de las pruebas\n",
        "t_test_results = []\n",
        "\n",
        "# Recorra cada columna de género y realice la prueba t\n",
        "for genus in genus_columns:\n",
        "    # Separar los datos de los grupos “Sí” y “No” de la enfermedad de Parkinson\n",
        "    pd_group = merged_clr[merged_clr['parkinson_disease'] == 'Yes'][genus].dropna()\n",
        "    hc_group = merged_clr[merged_clr['parkinson_disease'] == 'No'][genus].dropna()\n",
        "\n",
        "    # Realizar la prueba t\n",
        "    if len(pd_group) > 0 and len(hc_group) > 0:  # Realice la prueba solo si hay valores en ambos grupos\n",
        "        t_stat, p_val = stats.ttest_ind(pd_group, hc_group, equal_var=False)\n",
        "\n",
        "        # Almacenar los resultados\n",
        "        t_test_results.append({\n",
        "            'genus': genus,\n",
        "            't_stat': t_stat,\n",
        "            'p_val': p_val,\n",
        "            'n_pd': len(pd_group),\n",
        "            'n_hc': len(hc_group)\n",
        "        })\n",
        "\n",
        "# Convertir los resultados en un DataFrame\n",
        "ttest_results_df = pd.DataFrame(t_test_results)"
      ]
    },
    {
      "cell_type": "code",
      "execution_count": null,
      "metadata": {
        "id": "nKlGFXDpbt2p"
      },
      "outputs": [],
      "source": [
        "# Eche un vistazo a nuestro marco de datos de resultados\n",
        "ttest_results_df"
      ]
    },
    {
      "cell_type": "markdown",
      "metadata": {
        "id": "gFeQfd9kbt2p"
      },
      "source": [
        "¿Cómo se ve nuestra distribución de valor p?"
      ]
    },
    {
      "cell_type": "code",
      "execution_count": null,
      "metadata": {
        "id": "HW1Si-zubt2p"
      },
      "outputs": [],
      "source": [
        "sns.histplot(data=ttest_results_df, x='p_val', bins=13)\n",
        "plt.xlabel('p-value')\n",
        "plt.ylabel('number of t-tests')\n",
        "plt.show()"
      ]
    },
    {
      "cell_type": "markdown",
      "metadata": {
        "id": "BRwhKmCcbt2p"
      },
      "source": [
        "¿Se ve bien? Esperamos una desviación hacia la izquierda, dados tanto los verdaderos como los falsos positivos."
      ]
    },
    {
      "cell_type": "markdown",
      "metadata": {
        "id": "XvNnzlEZbt2p"
      },
      "source": [
        "Cuando disponemos de una lista de valores p, podemos aplicar fácilmente la corrección FDR. Utilizaremos la corrección de Benjamini-Hochberg (BH), que es menos conservadora que la de Bonferroni. El valor p corregido por BH, q, se calcula en función de la lista completa de valores q."
      ]
    },
    {
      "cell_type": "code",
      "execution_count": null,
      "metadata": {
        "id": "dUIxWc4Gbt2p"
      },
      "outputs": [],
      "source": [
        "from statsmodels.stats.multitest import multipletests"
      ]
    },
    {
      "cell_type": "code",
      "execution_count": null,
      "metadata": {
        "id": "x2SjgqQGbt2p"
      },
      "outputs": [],
      "source": [
        "# realizar la corrección FDR (esto devuelve los valores q en el orden en que fueron proporcionados)\n",
        "qvals = multipletests(ttest_results_df['p_val'], method='fdr_bh')[1]\n",
        "\n",
        "# añadir valores q al dataframe\n",
        "ttest_results_df['q_val'] = qvals\n",
        "\n",
        "# mostrar el nuevo dataframe, pero ordenar por valor q\n",
        "ttest_results_df.sort_values(by='q_val')"
      ]
    },
    {
      "cell_type": "markdown",
      "metadata": {
        "id": "srKzY04Nbt2p"
      },
      "source": [
        "¡Genial! Separemos solo los resultados significativos y creamos una columna con nombres taxonómicos más fáciles de representar."
      ]
    },
    {
      "cell_type": "code",
      "execution_count": null,
      "metadata": {
        "id": "m9IX9t0dbt2p"
      },
      "outputs": [],
      "source": [
        "ttest_signif = ttest_results_df[ttest_results_df['q_val'] < 0.1]\n",
        "ttest_signif.loc[:, 'genus_plot'] = ttest_signif['genus'].str.split(';').apply(lambda x: ';'.join(x[-2:])) # tomar sólo los 2 últimos niveles taxonómicos\n",
        "ttest_signif"
      ]
    },
    {
      "cell_type": "markdown",
      "metadata": {
        "id": "khONhXxEbt2p"
      },
      "source": [
        "¿Cómo podemos visualizar esta información? Aquí, he trazado el estadístico T para cada impacto significativo, coloreado por el valor q."
      ]
    },
    {
      "cell_type": "code",
      "execution_count": null,
      "metadata": {
        "id": "2e2D0iNlbt2p"
      },
      "outputs": [],
      "source": [
        "# Ordenar por estadística t absoluta para una mejor visualización\n",
        "ttest_signif = ttest_signif.sort_values(by='t_stat', key=abs, ascending=False)\n",
        "\n",
        "# Crea una paleta de colores personalizada que vaya de claro a oscuro según los valores q.\n",
        "norm = plt.Normalize(0.0, 0.1)\n",
        "cmap = plt.cm.Blues_r  # color map\n",
        "bar_colors = cmap(norm(ttest_signif['q_val'])).tolist()\n",
        "\n",
        "# Plot\n",
        "fig, ax = plt.subplots(figsize=(10, 6))\n",
        "sns.barplot(data=ttest_signif, x='t_stat', y='genus_plot', palette=bar_colors, hue='genus_plot', ax=ax, legend=False)\n",
        "\n",
        "# Hacer etiquetas\n",
        "ax.set_title('Differentially Abundant Genera in PD patients')\n",
        "ax.set_xlabel('T-Statistic')\n",
        "ax.set_ylabel('Genus')\n",
        "\n",
        "# crear una clave para los valores q\n",
        "sm = plt.cm.ScalarMappable(cmap=cmap, norm=norm)  # crear objeto ScalarMappable\n",
        "sm.set_array([])  # Matriz vacía para ScalarMappable\n",
        "cbar = plt.colorbar(sm, ax=ax)\n",
        "cbar.set_label('q-value')\n",
        "\n",
        "# Mostrar la figura\n",
        "plt.tight_layout()\n",
        "plt.show()"
      ]
    },
    {
      "cell_type": "markdown",
      "metadata": {
        "id": "WPMlG8w9aCsW",
        "tags": []
      },
      "source": [
        "---\n",
        "# Ejercicio: Plantar un árbol"
      ]
    },
    {
      "cell_type": "markdown",
      "metadata": {
        "id": "hZrVCQE80fAc"
      },
      "source": [
        "Una visualización a la que no dedicamos mucho tiempo fue el árbol filogenético de nuestros ASV. ¡Vamos a cambiarlo! En el paso anterior, vimos que hay géneros que aparecen en múltiples poblaciones. Pero, ¿son los organismos de ese género realmente los mismos?\n",
        "\n",
        "Anotemos el árbol con nuestras clasificaciones taxonómicas y abundancias. Usaremos de nuevo el complemento empress, pero esta vez con la opción `community-plot`. Les preparé una plantilla del comando. ¿Pueden indicar qué debe ir en los espacios vacíos?\n",
        "\n",
        "**PREGUNTAS:**\n",
        "\n",
        "1) ¿Son algunas ramas del árbol más largas de lo esperado? ¿Observas algo interesante o sospechoso en la identidad taxonómica de estas ramas?\n",
        "\n",
        "2) ¿Puedes encontrar ejemplos de filos polifiléticos (es decir, grupos de ASV del mismo filo que se encuentran en diferentes lugares del árbol, mostrando diferentes ancestros comunes)? ¿Qué ocurre con los taxones polifiléticos en niveles taxonómicos inferiores, como a nivel de familia o género? ¿Por qué crees que existen estos patrones?\n",
        "\n",
        "Nota: Es necesario entregar las respuestas de las preguntas, y el nuevo arbol anotado para poder acreditar el curso. Todo deberá estar en un archivo pdf y se deberá enviar por correo a microbiomas.salud2025@gmail.com **Asunto Taller 16S**"
      ]
    },
    {
      "cell_type": "code",
      "execution_count": null,
      "metadata": {
        "id": "qf-bY5aci4bv"
      },
      "outputs": [],
      "source": [
        "# Esto no se ejecutará hasta que completes los espacios [VACÍOS] con los archivos correctos ;)\n",
        "\n",
        "!qiime empress community-plot \\\n",
        "    --i-tree [EMPTY] \\\n",
        "    --i-feature-table dada/table.qza \\\n",
        "    --m-sample-metadata-file [EMPTY] \\\n",
        "    --m-feature-metadata-file taxa.qza \\\n",
        "    --o-visualization community-tree-viz.qzv"
      ]
    }
  ],
  "metadata": {
    "colab": {
      "provenance": []
    },
    "kernelspec": {
      "display_name": "Python 3 (ipykernel)",
      "language": "python",
      "name": "python3"
    },
    "language_info": {
      "codemirror_mode": {
        "name": "ipython",
        "version": 3
      },
      "file_extension": ".py",
      "mimetype": "text/x-python",
      "name": "python",
      "nbconvert_exporter": "python",
      "pygments_lexer": "ipython3",
      "version": "3.11.0"
    }
  },
  "nbformat": 4,
  "nbformat_minor": 0
}